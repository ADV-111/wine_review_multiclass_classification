{
 "cells": [
  {
   "cell_type": "markdown",
   "metadata": {},
   "source": [
    "# Introduction"
   ]
  },
  {
   "cell_type": "markdown",
   "metadata": {},
   "source": [
    "This is the final project of the Data Science Bootcamp run by the Sages / Kodołamacz training company. The bootcamp took place from June to December 2020. The project is a summary of the acquired knowledge, in the subject that interested me the most, i.e. NLP and multi-class classification."
   ]
  },
  {
   "cell_type": "markdown",
   "metadata": {},
   "source": [
    "## Problem Statement"
   ]
  },
  {
   "cell_type": "markdown",
   "metadata": {},
   "source": [
    "I'm going to use Kaggle's dateset \"Wine Reviews\" - https://www.kaggle.com/zynicide/wine-reviews and as the subject of my final project perform: \"Multiclass classification of wine varieties based on wine reviews dataset\". \n",
    "\n",
    "I can describe the problem as supervised classification\n",
    "\n",
    "1. In my work I want to use just one column - \"Review\" to predict target value \"Grape Variety\".\n",
    "2. I want to limit the number of targeted grape variety values to top 15, most popular grapes.\n"
   ]
  },
  {
   "cell_type": "markdown",
   "metadata": {},
   "source": [
    "## Scope"
   ]
  },
  {
   "cell_type": "markdown",
   "metadata": {},
   "source": [
    "Since, this is my first data science project, my focus is mainly to use the knowledge and techniques learned during the data camp. I'm going to use the shared with me the knowledge materials and notebooks. Additionally I have checked other projects available online which deal with similar problem, that is: multiclass classification based on natural language processing.\n",
    "\n",
    "The key steps of the project:\n",
    "1. Data cleaning,\n",
    "2. Exploratory Data Analysis,\n",
    "3. Preprocessing and preparing data for the model,\n",
    "4. Modeling\n",
    "5. Check prediction"
   ]
  },
  {
   "cell_type": "markdown",
   "metadata": {},
   "source": [
    "## Sandbox notebook"
   ]
  },
  {
   "cell_type": "markdown",
   "metadata": {},
   "source": [
    "In order to make the project clean, I'm going to keep all not implemented pieces of code inside my \"sandbox\" notebook, where I practice and check various solutions."
   ]
  },
  {
   "cell_type": "markdown",
   "metadata": {},
   "source": [
    "## Pickling stage datasets "
   ]
  },
  {
   "cell_type": "markdown",
   "metadata": {},
   "source": [
    "I'm going to pickle datasets once I follow through a given stage of the project. It allows me to adjust or change functions on dataset if necessary."
   ]
  },
  {
   "cell_type": "code",
   "execution_count": null,
   "metadata": {},
   "outputs": [],
   "source": []
  }
 ],
 "metadata": {
  "kernelspec": {
   "display_name": "Python 3",
   "language": "python",
   "name": "python3"
  },
  "language_info": {
   "codemirror_mode": {
    "name": "ipython",
    "version": 3
   },
   "file_extension": ".py",
   "mimetype": "text/x-python",
   "name": "python",
   "nbconvert_exporter": "python",
   "pygments_lexer": "ipython3",
   "version": "3.8.1"
  },
  "toc": {
   "base_numbering": 1,
   "nav_menu": {},
   "number_sections": true,
   "sideBar": true,
   "skip_h1_title": false,
   "title_cell": "Table of Contents",
   "title_sidebar": "Contents",
   "toc_cell": false,
   "toc_position": {},
   "toc_section_display": true,
   "toc_window_display": false
  }
 },
 "nbformat": 4,
 "nbformat_minor": 4
}
