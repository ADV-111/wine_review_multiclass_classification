{
 "cells": [
  {
   "cell_type": "markdown",
   "metadata": {},
   "source": [
    "### Introduction"
   ]
  },
  {
   "cell_type": "markdown",
   "metadata": {},
   "source": [
    "Niniejszy projekt, jest projektem zaliczniowym z Bootcampu Data Science prowadzony przez firmę szkoleniową Sages / Kodołamacz. Bootcamp odbywał się od czerwca do grudnia 2020 r. Projekt jest podsumowaniem zdobytej wiedzy, w temacie który najbardziej mnie zainteresował czyli NLP i klasyfikacja multiklasowa.\n",
    "\n"
   ]
  },
  {
   "cell_type": "markdown",
   "metadata": {},
   "source": [
    "#### Problem Statement"
   ]
  },
  {
   "cell_type": "markdown",
   "metadata": {},
   "source": [
    "I'm going to use Kaggle's dateset \"Wine Reviews\" - https://www.kaggle.com/zynicide/wine-reviews and as the subject of my final project perform: \"Multiclass classification of wine varieties based on wine reviews dataset\". \n",
    "\n",
    "I can describe the problem as supervised classification\n",
    "\n",
    "1. In my work I want to use just one column - \"Review\" to predict target value \"Grape Variety\".\n",
    "2. I want to limit the number of targeted grape variety values to top 15, most popular grapes.\n"
   ]
  },
  {
   "cell_type": "markdown",
   "metadata": {},
   "source": [
    "#### Scope"
   ]
  },
  {
   "cell_type": "markdown",
   "metadata": {},
   "source": [
    "Since, this is my first data science project, my focus is mainly to use the knowledge and techniques learned during the data camp. I'm going to use the shared knowledge materials and notebooks. Additionally I checked online projects with similar problem statement i.e. multiclass classification based on natural language processing to help myself not only to structure the project but borrow some useful solutions to problems I'm going to encounter.\n",
    "\n",
    "The key steps of the project:\n",
    "1. Data cleaning,\n",
    "2. Exploratory Data Analysis,\n",
    "3. Preprocessing and preparing data for the model,\n",
    "4. Modeling\n",
    "5. Check prediction"
   ]
  }
 ],
 "metadata": {
  "kernelspec": {
   "display_name": "Python 3",
   "language": "python",
   "name": "python3"
  },
  "language_info": {
   "codemirror_mode": {
    "name": "ipython",
    "version": 3
   },
   "file_extension": ".py",
   "mimetype": "text/x-python",
   "name": "python",
   "nbconvert_exporter": "python",
   "pygments_lexer": "ipython3",
   "version": "3.8.1"
  },
  "toc": {
   "base_numbering": 1,
   "nav_menu": {},
   "number_sections": true,
   "sideBar": true,
   "skip_h1_title": false,
   "title_cell": "Table of Contents",
   "title_sidebar": "Contents",
   "toc_cell": false,
   "toc_position": {},
   "toc_section_display": true,
   "toc_window_display": false
  }
 },
 "nbformat": 4,
 "nbformat_minor": 4
}
