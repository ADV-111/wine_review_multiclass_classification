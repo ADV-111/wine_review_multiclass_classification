{
 "cells": [
  {
   "cell_type": "markdown",
   "metadata": {},
   "source": [
    "# Preparing data for the model"
   ]
  },
  {
   "cell_type": "code",
   "execution_count": 45,
   "metadata": {},
   "outputs": [],
   "source": [
    "import pandas as pd\n",
    "import matplotlib.pyplot as plt\n",
    "from sklearn.model_selection import train_test_split\n",
    "from sklearn.metrics import classification_report, f1_score, make_scorer\n",
    "\n",
    "\n",
    "from sklearn.naive_bayes import MultinomialNB\n",
    "from sklearn.ensemble import RandomForestClassifier\n",
    "from sklearn.svm import SVC, LinearSVC\n",
    "from sklearn.linear_model import LogisticRegression"
   ]
  },
  {
   "cell_type": "code",
   "execution_count": 2,
   "metadata": {},
   "outputs": [
    {
     "data": {
      "text/html": [
       "<div>\n",
       "<style scoped>\n",
       "    .dataframe tbody tr th:only-of-type {\n",
       "        vertical-align: middle;\n",
       "    }\n",
       "\n",
       "    .dataframe tbody tr th {\n",
       "        vertical-align: top;\n",
       "    }\n",
       "\n",
       "    .dataframe thead th {\n",
       "        text-align: right;\n",
       "    }\n",
       "</style>\n",
       "<table border=\"1\" class=\"dataframe\">\n",
       "  <thead>\n",
       "    <tr style=\"text-align: right;\">\n",
       "      <th></th>\n",
       "      <th>description</th>\n",
       "      <th>variety</th>\n",
       "      <th>desc_clean</th>\n",
       "    </tr>\n",
       "  </thead>\n",
       "  <tbody>\n",
       "    <tr>\n",
       "      <th>0</th>\n",
       "      <td>This tremendous 100% varietal wine hails from ...</td>\n",
       "      <td>Cabernet Sauvignon</td>\n",
       "      <td>tremend 100% variet wine hail oakvill age thre...</td>\n",
       "    </tr>\n",
       "    <tr>\n",
       "      <th>1</th>\n",
       "      <td>Mac Watson honors the memory of a wine once ma...</td>\n",
       "      <td>Sauvignon Blanc</td>\n",
       "      <td>mac watson honor memori wine made mother treme...</td>\n",
       "    </tr>\n",
       "    <tr>\n",
       "      <th>2</th>\n",
       "      <td>This spent 20 months in 30% new French oak, an...</td>\n",
       "      <td>Pinot Noir</td>\n",
       "      <td>spent 20 month 30% new french oak incorpor fru...</td>\n",
       "    </tr>\n",
       "    <tr>\n",
       "      <th>3</th>\n",
       "      <td>This re-named vineyard was formerly bottled as...</td>\n",
       "      <td>Pinot Noir</td>\n",
       "      <td>name vineyard former bottl delancellotti find ...</td>\n",
       "    </tr>\n",
       "    <tr>\n",
       "      <th>4</th>\n",
       "      <td>The producer sources from two blocks of the vi...</td>\n",
       "      <td>Pinot Noir</td>\n",
       "      <td>produc sourc two block vineyard wine one high ...</td>\n",
       "    </tr>\n",
       "    <tr>\n",
       "      <th>...</th>\n",
       "      <td>...</td>\n",
       "      <td>...</td>\n",
       "      <td>...</td>\n",
       "    </tr>\n",
       "    <tr>\n",
       "      <th>64728</th>\n",
       "      <td>This needs a good bit of breathing time, then ...</td>\n",
       "      <td>Pinot Noir</td>\n",
       "      <td>need good bit breath time begin reveal cherri ...</td>\n",
       "    </tr>\n",
       "    <tr>\n",
       "      <th>64729</th>\n",
       "      <td>The nose is dominated by the attractive scents...</td>\n",
       "      <td>Pinot Noir</td>\n",
       "      <td>nose domin attract scent new french oak hint p...</td>\n",
       "    </tr>\n",
       "    <tr>\n",
       "      <th>64730</th>\n",
       "      <td>Decades ago, Beringer’s then-winemaker Myron N...</td>\n",
       "      <td>White Blend</td>\n",
       "      <td>decad ago bering winemak myron nightingal crea...</td>\n",
       "    </tr>\n",
       "    <tr>\n",
       "      <th>64731</th>\n",
       "      <td>Many people feel Fiano represents southern Ita...</td>\n",
       "      <td>White Blend</td>\n",
       "      <td>mani peopl feel fiano repres southern itali pr...</td>\n",
       "    </tr>\n",
       "    <tr>\n",
       "      <th>64732</th>\n",
       "      <td>This classic example comes from a cru vineyard...</td>\n",
       "      <td>White Blend</td>\n",
       "      <td>classic exampl come cru vineyard call terr di ...</td>\n",
       "    </tr>\n",
       "  </tbody>\n",
       "</table>\n",
       "<p>64733 rows × 3 columns</p>\n",
       "</div>"
      ],
      "text/plain": [
       "                                             description             variety  \\\n",
       "0      This tremendous 100% varietal wine hails from ...  Cabernet Sauvignon   \n",
       "1      Mac Watson honors the memory of a wine once ma...     Sauvignon Blanc   \n",
       "2      This spent 20 months in 30% new French oak, an...          Pinot Noir   \n",
       "3      This re-named vineyard was formerly bottled as...          Pinot Noir   \n",
       "4      The producer sources from two blocks of the vi...          Pinot Noir   \n",
       "...                                                  ...                 ...   \n",
       "64728  This needs a good bit of breathing time, then ...          Pinot Noir   \n",
       "64729  The nose is dominated by the attractive scents...          Pinot Noir   \n",
       "64730  Decades ago, Beringer’s then-winemaker Myron N...         White Blend   \n",
       "64731  Many people feel Fiano represents southern Ita...         White Blend   \n",
       "64732  This classic example comes from a cru vineyard...         White Blend   \n",
       "\n",
       "                                              desc_clean  \n",
       "0      tremend 100% variet wine hail oakvill age thre...  \n",
       "1      mac watson honor memori wine made mother treme...  \n",
       "2      spent 20 month 30% new french oak incorpor fru...  \n",
       "3      name vineyard former bottl delancellotti find ...  \n",
       "4      produc sourc two block vineyard wine one high ...  \n",
       "...                                                  ...  \n",
       "64728  need good bit breath time begin reveal cherri ...  \n",
       "64729  nose domin attract scent new french oak hint p...  \n",
       "64730  decad ago bering winemak myron nightingal crea...  \n",
       "64731  mani peopl feel fiano repres southern itali pr...  \n",
       "64732  classic exampl come cru vineyard call terr di ...  \n",
       "\n",
       "[64733 rows x 3 columns]"
      ]
     },
     "execution_count": 2,
     "metadata": {},
     "output_type": "execute_result"
    }
   ],
   "source": [
    "FILE_PATH = './data/pickles/02_tokenized_descriptions.pkl'\n",
    "\n",
    "data = pd.read_pickle(FILE_PATH)\n",
    "data"
   ]
  },
  {
   "cell_type": "markdown",
   "metadata": {},
   "source": [
    "**Before fitting data into the model, let's check the variety distribution once again**"
   ]
  },
  {
   "cell_type": "code",
   "execution_count": 12,
   "metadata": {},
   "outputs": [
    {
     "data": {
      "text/plain": [
       "Pinot Noir                  9283\n",
       "Chardonnay                  9159\n",
       "Cabernet Sauvignon          8267\n",
       "Red Blend                   6484\n",
       "Bordeaux-style Red Blend    5170\n",
       "Sauvignon Blanc             4034\n",
       "Syrah                       3662\n",
       "Riesling                    3582\n",
       "Merlot                      3176\n",
       "Zinfandel                   2408\n",
       "Sangiovese                  2152\n",
       "Malbec                      1967\n",
       "Rosé                        1910\n",
       "White Blend                 1857\n",
       "Tempranillo                 1622\n",
       "Name: variety, dtype: int64"
      ]
     },
     "execution_count": 12,
     "metadata": {},
     "output_type": "execute_result"
    }
   ],
   "source": [
    "data.variety.value_counts()"
   ]
  },
  {
   "cell_type": "code",
   "execution_count": 11,
   "metadata": {},
   "outputs": [
    {
     "data": {
      "text/plain": [
       "<matplotlib.axes._subplots.AxesSubplot at 0x7fea2117b760>"
      ]
     },
     "execution_count": 11,
     "metadata": {},
     "output_type": "execute_result"
    },
    {
     "data": {
      "image/png": "[encoded data removed]",
      "text/plain": [
       "<Figure size 720x360 with 1 Axes>"
      ]
     },
     "metadata": {
      "needs_background": "light"
     },
     "output_type": "display_data"
    }
   ],
   "source": [
    "fig = plt.figure(figsize=(10,5))\n",
    "data.variety.value_counts().plot.bar(ylim=0)"
   ]
  },
  {
   "cell_type": "markdown",
   "metadata": {},
   "source": [
    "## Train test split"
   ]
  },
  {
   "cell_type": "code",
   "execution_count": 24,
   "metadata": {},
   "outputs": [],
   "source": [
    "from sklearn.feature_extraction.text import CountVectorizer\n",
    "\n",
    "vectorizer = CountVectorizer()\n",
    "input_data = vectorizer.fit_transform(data.desc_clean)\n",
    "\n",
    "# if check of the input_data is needed\n",
    "# pd.DataFrame(input_data.toarray(), columns=vectorizer.get_feature_names())"
   ]
  },
  {
   "cell_type": "code",
   "execution_count": 26,
   "metadata": {},
   "outputs": [],
   "source": [
    "X_train, X_test, y_train, y_test = train_test_split(input_data, data.variety, test_size = 0.2, random_state = 42)"
   ]
  },
  {
   "cell_type": "markdown",
   "metadata": {},
   "source": [
    "## Baseline models\n",
    "\n",
    "Let's start our prediction with Naive Bayes model as the baseline. Additionally let's create a function which allow us to evaluate trained models quickly."
   ]
  },
  {
   "cell_type": "code",
   "execution_count": 37,
   "metadata": {},
   "outputs": [],
   "source": [
    "# function for tuning hyperparams of a classifiers\n",
    "\n",
    "def tune_and_fit(clf, p_grid, cv = 5, X_train = X_train, y_train = y_train):   \n",
    "    grid = GridSearchCV(clf, param_grid = p_grid, cv = cv, n_jobs = -1, verbose = True, \n",
    "                        scoring = make_scorer(f1_score, average='weighted'))\n",
    "    grid.fit(X_train,y_train)\n",
    "    print('Best parameters found: ')\n",
    "    print(grid.best_params_)\n",
    "    print('\\n Best score:')\n",
    "    print(grid.best_score_)\n",
    "    \n",
    "    return grid.best_estimator_"
   ]
  },
  {
   "cell_type": "code",
   "execution_count": 32,
   "metadata": {},
   "outputs": [],
   "source": [
    "# function to evalute models on the test set\n",
    "\n",
    "def evaluate_model(model, X_test = X_test, y_test = y_test):\n",
    "    y_pred = model.predict(X_test)\n",
    "    \n",
    "    print(classification_report(y_test, y_pred))"
   ]
  },
  {
   "cell_type": "markdown",
   "metadata": {},
   "source": [
    "### Multinomial Naive Bayes Baseline"
   ]
  },
  {
   "cell_type": "code",
   "execution_count": 43,
   "metadata": {},
   "outputs": [
    {
     "name": "stdout",
     "output_type": "stream",
     "text": [
      "                          precision    recall  f1-score   support\n",
      "\n",
      "Bordeaux-style Red Blend       0.64      0.69      0.66      1033\n",
      "      Cabernet Sauvignon       0.53      0.73      0.61      1583\n",
      "              Chardonnay       0.81      0.90      0.85      1880\n",
      "                  Malbec       0.41      0.35      0.38       390\n",
      "                  Merlot       0.60      0.19      0.29       683\n",
      "              Pinot Noir       0.76      0.77      0.76      1914\n",
      "               Red Blend       0.55      0.68      0.61      1292\n",
      "                Riesling       0.83      0.83      0.83       694\n",
      "                    Rosé       0.80      0.62      0.70       356\n",
      "              Sangiovese       0.68      0.47      0.56       396\n",
      "         Sauvignon Blanc       0.77      0.71      0.74       806\n",
      "                   Syrah       0.74      0.44      0.55       720\n",
      "             Tempranillo       0.41      0.46      0.44       352\n",
      "             White Blend       0.82      0.54      0.65       365\n",
      "               Zinfandel       0.71      0.63      0.67       483\n",
      "\n",
      "                accuracy                           0.67     12947\n",
      "               macro avg       0.67      0.60      0.62     12947\n",
      "            weighted avg       0.68      0.67      0.66     12947\n",
      "\n",
      "CPU times: user 558 ms, sys: 9.89 ms, total: 567 ms\n",
      "Wall time: 567 ms\n"
     ]
    }
   ],
   "source": [
    "%%time\n",
    "multinomial_NB_base = MultinomialNB()\n",
    "\n",
    "multinomial_NB_base.fit(X_train,y_train)\n",
    "evaluate_model(multinomial_NB_base)"
   ]
  },
  {
   "cell_type": "markdown",
   "metadata": {},
   "source": [
    "### Support Vector Machines Baseline - One vs. Rest"
   ]
  },
  {
   "cell_type": "code",
   "execution_count": 41,
   "metadata": {},
   "outputs": [
    {
     "name": "stdout",
     "output_type": "stream",
     "text": [
      "                          precision    recall  f1-score   support\n",
      "\n",
      "Bordeaux-style Red Blend       0.78      0.75      0.76      1033\n",
      "      Cabernet Sauvignon       0.58      0.81      0.67      1583\n",
      "              Chardonnay       0.79      0.94      0.86      1880\n",
      "                  Malbec       0.67      0.44      0.53       390\n",
      "                  Merlot       0.86      0.44      0.58       683\n",
      "              Pinot Noir       0.75      0.84      0.79      1914\n",
      "               Red Blend       0.67      0.68      0.68      1292\n",
      "                Riesling       0.86      0.82      0.84       694\n",
      "                    Rosé       0.82      0.74      0.78       356\n",
      "              Sangiovese       0.73      0.53      0.61       396\n",
      "         Sauvignon Blanc       0.82      0.73      0.77       806\n",
      "                   Syrah       0.80      0.56      0.66       720\n",
      "             Tempranillo       0.51      0.43      0.47       352\n",
      "             White Blend       0.85      0.58      0.69       365\n",
      "               Zinfandel       0.86      0.70      0.77       483\n",
      "\n",
      "                accuracy                           0.74     12947\n",
      "               macro avg       0.76      0.67      0.70     12947\n",
      "            weighted avg       0.75      0.74      0.73     12947\n",
      "\n"
     ]
    }
   ],
   "source": [
    "svm_base = SVC(decision_function_shape='ovr')\n",
    "\n",
    "svm_base.fit(X_train,y_train)\n",
    "evaluate_model(svm_base)"
   ]
  },
  {
   "cell_type": "markdown",
   "metadata": {},
   "source": [
    "### Linear Support Vector Machines"
   ]
  },
  {
   "cell_type": "code",
   "execution_count": 48,
   "metadata": {},
   "outputs": [
    {
     "name": "stdout",
     "output_type": "stream",
     "text": [
      "                          precision    recall  f1-score   support\n",
      "\n",
      "Bordeaux-style Red Blend       0.70      0.71      0.71      1033\n",
      "      Cabernet Sauvignon       0.65      0.69      0.67      1583\n",
      "              Chardonnay       0.83      0.87      0.85      1880\n",
      "                  Malbec       0.46      0.45      0.45       390\n",
      "                  Merlot       0.56      0.48      0.52       683\n",
      "              Pinot Noir       0.77      0.80      0.79      1914\n",
      "               Red Blend       0.67      0.65      0.66      1292\n",
      "                Riesling       0.81      0.82      0.82       694\n",
      "                    Rosé       0.70      0.72      0.71       356\n",
      "              Sangiovese       0.58      0.58      0.58       396\n",
      "         Sauvignon Blanc       0.75      0.73      0.74       806\n",
      "                   Syrah       0.66      0.60      0.63       720\n",
      "             Tempranillo       0.51      0.47      0.49       352\n",
      "             White Blend       0.70      0.56      0.63       365\n",
      "               Zinfandel       0.69      0.73      0.71       483\n",
      "\n",
      "                accuracy                           0.71     12947\n",
      "               macro avg       0.67      0.66      0.66     12947\n",
      "            weighted avg       0.70      0.71      0.70     12947\n",
      "\n",
      "CPU times: user 23.9 s, sys: 49 ms, total: 24 s\n",
      "Wall time: 24 s\n"
     ]
    }
   ],
   "source": [
    "%%time\n",
    "linear_svm_base = LinearSVC()\n",
    "\n",
    "linear_svm_base.fit(X_train,y_train)\n",
    "evaluate_model(linear_svm_base)"
   ]
  },
  {
   "cell_type": "code",
   "execution_count": null,
   "metadata": {},
   "outputs": [],
   "source": []
  }
 ],
 "metadata": {
  "kernelspec": {
   "display_name": "Python 3",
   "language": "python",
   "name": "python3"
  },
  "language_info": {
   "codemirror_mode": {
    "name": "ipython",
    "version": 3
   },
   "file_extension": ".py",
   "mimetype": "text/x-python",
   "name": "python",
   "nbconvert_exporter": "python",
   "pygments_lexer": "ipython3",
   "version": "3.8.1"
  },
  "toc": {
   "base_numbering": 1,
   "nav_menu": {},
   "number_sections": true,
   "sideBar": true,
   "skip_h1_title": false,
   "title_cell": "Table of Contents",
   "title_sidebar": "Contents",
   "toc_cell": false,
   "toc_position": {},
   "toc_section_display": true,
   "toc_window_display": false
  }
 },
 "nbformat": 4,
 "nbformat_minor": 4
}
