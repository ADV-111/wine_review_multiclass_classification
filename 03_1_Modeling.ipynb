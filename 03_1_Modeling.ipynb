{
 "cells": [
  {
   "cell_type": "markdown",
   "metadata": {},
   "source": [
    "# Preparing data for the model"
   ]
  },
  {
   "cell_type": "code",
   "execution_count": 7,
   "metadata": {},
   "outputs": [],
   "source": [
    "import pandas as pd\n",
    "import matplotlib.pyplot as plt\n",
    "from sklearn.model_selection import train_test_split\n",
    "from sklearn.metrics import classification_report, f1_score, make_scorer\n",
    "\n",
    "\n",
    "from sklearn.naive_bayes import MultinomialNB\n",
    "from sklearn.ensemble import RandomForestClassifier\n",
    "from sklearn.svm import SVC, LinearSVC\n",
    "from sklearn.model_selection import GridSearchCV\n",
    "from sklearn.feature_extraction.text import TfidfTransformer, CountVectorizer\n",
    "from sklearn.pipeline import Pipeline\n",
    "\n"
   ]
  },
  {
   "cell_type": "code",
   "execution_count": 21,
   "metadata": {},
   "outputs": [
    {
     "data": {
      "text/html": [
       "<div>\n",
       "<style scoped>\n",
       "    .dataframe tbody tr th:only-of-type {\n",
       "        vertical-align: middle;\n",
       "    }\n",
       "\n",
       "    .dataframe tbody tr th {\n",
       "        vertical-align: top;\n",
       "    }\n",
       "\n",
       "    .dataframe thead th {\n",
       "        text-align: right;\n",
       "    }\n",
       "</style>\n",
       "<table border=\"1\" class=\"dataframe\">\n",
       "  <thead>\n",
       "    <tr style=\"text-align: right;\">\n",
       "      <th></th>\n",
       "      <th>description</th>\n",
       "      <th>variety</th>\n",
       "      <th>desc_clean</th>\n",
       "    </tr>\n",
       "  </thead>\n",
       "  <tbody>\n",
       "    <tr>\n",
       "      <th>0</th>\n",
       "      <td>This tremendous 100% varietal wine hails from ...</td>\n",
       "      <td>Cabernet Sauvignon</td>\n",
       "      <td>tremend 100% variet wine hail oakvill age thre...</td>\n",
       "    </tr>\n",
       "    <tr>\n",
       "      <th>1</th>\n",
       "      <td>Mac Watson honors the memory of a wine once ma...</td>\n",
       "      <td>Sauvignon Blanc</td>\n",
       "      <td>mac watson honor memori wine made mother treme...</td>\n",
       "    </tr>\n",
       "    <tr>\n",
       "      <th>2</th>\n",
       "      <td>This spent 20 months in 30% new French oak, an...</td>\n",
       "      <td>Pinot Noir</td>\n",
       "      <td>spent 20 month 30% new french oak incorpor fru...</td>\n",
       "    </tr>\n",
       "    <tr>\n",
       "      <th>3</th>\n",
       "      <td>This re-named vineyard was formerly bottled as...</td>\n",
       "      <td>Pinot Noir</td>\n",
       "      <td>name vineyard former bottl delancellotti find ...</td>\n",
       "    </tr>\n",
       "    <tr>\n",
       "      <th>4</th>\n",
       "      <td>The producer sources from two blocks of the vi...</td>\n",
       "      <td>Pinot Noir</td>\n",
       "      <td>produc sourc two block vineyard wine one high ...</td>\n",
       "    </tr>\n",
       "    <tr>\n",
       "      <th>...</th>\n",
       "      <td>...</td>\n",
       "      <td>...</td>\n",
       "      <td>...</td>\n",
       "    </tr>\n",
       "    <tr>\n",
       "      <th>64728</th>\n",
       "      <td>This needs a good bit of breathing time, then ...</td>\n",
       "      <td>Pinot Noir</td>\n",
       "      <td>need good bit breath time begin reveal cherri ...</td>\n",
       "    </tr>\n",
       "    <tr>\n",
       "      <th>64729</th>\n",
       "      <td>The nose is dominated by the attractive scents...</td>\n",
       "      <td>Pinot Noir</td>\n",
       "      <td>nose domin attract scent new french oak hint p...</td>\n",
       "    </tr>\n",
       "    <tr>\n",
       "      <th>64730</th>\n",
       "      <td>Decades ago, Beringer’s then-winemaker Myron N...</td>\n",
       "      <td>White Blend</td>\n",
       "      <td>decad ago bering winemak myron nightingal crea...</td>\n",
       "    </tr>\n",
       "    <tr>\n",
       "      <th>64731</th>\n",
       "      <td>Many people feel Fiano represents southern Ita...</td>\n",
       "      <td>White Blend</td>\n",
       "      <td>mani peopl feel fiano repres southern itali pr...</td>\n",
       "    </tr>\n",
       "    <tr>\n",
       "      <th>64732</th>\n",
       "      <td>This classic example comes from a cru vineyard...</td>\n",
       "      <td>White Blend</td>\n",
       "      <td>classic exampl come cru vineyard call terr di ...</td>\n",
       "    </tr>\n",
       "  </tbody>\n",
       "</table>\n",
       "<p>64733 rows × 3 columns</p>\n",
       "</div>"
      ],
      "text/plain": [
       "                                             description             variety  \\\n",
       "0      This tremendous 100% varietal wine hails from ...  Cabernet Sauvignon   \n",
       "1      Mac Watson honors the memory of a wine once ma...     Sauvignon Blanc   \n",
       "2      This spent 20 months in 30% new French oak, an...          Pinot Noir   \n",
       "3      This re-named vineyard was formerly bottled as...          Pinot Noir   \n",
       "4      The producer sources from two blocks of the vi...          Pinot Noir   \n",
       "...                                                  ...                 ...   \n",
       "64728  This needs a good bit of breathing time, then ...          Pinot Noir   \n",
       "64729  The nose is dominated by the attractive scents...          Pinot Noir   \n",
       "64730  Decades ago, Beringer’s then-winemaker Myron N...         White Blend   \n",
       "64731  Many people feel Fiano represents southern Ita...         White Blend   \n",
       "64732  This classic example comes from a cru vineyard...         White Blend   \n",
       "\n",
       "                                              desc_clean  \n",
       "0      tremend 100% variet wine hail oakvill age thre...  \n",
       "1      mac watson honor memori wine made mother treme...  \n",
       "2      spent 20 month 30% new french oak incorpor fru...  \n",
       "3      name vineyard former bottl delancellotti find ...  \n",
       "4      produc sourc two block vineyard wine one high ...  \n",
       "...                                                  ...  \n",
       "64728  need good bit breath time begin reveal cherri ...  \n",
       "64729  nose domin attract scent new french oak hint p...  \n",
       "64730  decad ago bering winemak myron nightingal crea...  \n",
       "64731  mani peopl feel fiano repres southern itali pr...  \n",
       "64732  classic exampl come cru vineyard call terr di ...  \n",
       "\n",
       "[64733 rows x 3 columns]"
      ]
     },
     "execution_count": 21,
     "metadata": {},
     "output_type": "execute_result"
    }
   ],
   "source": [
    "FILE_PATH = './data/pickles/02_tokenized_descriptions.pkl'\n",
    "\n",
    "data = pd.read_pickle(FILE_PATH)\n",
    "data"
   ]
  },
  {
   "cell_type": "markdown",
   "metadata": {},
   "source": [
    "**Before fitting data into the model, let's check the variety distribution once again**"
   ]
  },
  {
   "cell_type": "code",
   "execution_count": 22,
   "metadata": {},
   "outputs": [
    {
     "data": {
      "text/plain": [
       "Pinot Noir                  9283\n",
       "Chardonnay                  9159\n",
       "Cabernet Sauvignon          8267\n",
       "Red Blend                   6484\n",
       "Bordeaux-style Red Blend    5170\n",
       "Sauvignon Blanc             4034\n",
       "Syrah                       3662\n",
       "Riesling                    3582\n",
       "Merlot                      3176\n",
       "Zinfandel                   2408\n",
       "Sangiovese                  2152\n",
       "Malbec                      1967\n",
       "Rosé                        1910\n",
       "White Blend                 1857\n",
       "Tempranillo                 1622\n",
       "Name: variety, dtype: int64"
      ]
     },
     "execution_count": 22,
     "metadata": {},
     "output_type": "execute_result"
    }
   ],
   "source": [
    "data.variety.value_counts()"
   ]
  },
  {
   "cell_type": "code",
   "execution_count": 23,
   "metadata": {},
   "outputs": [
    {
     "data": {
      "text/plain": [
       "<matplotlib.axes._subplots.AxesSubplot at 0x7fa4972a8250>"
      ]
     },
     "execution_count": 23,
     "metadata": {},
     "output_type": "execute_result"
    },
    {
     "data": {
      "image/png": "[encoded data removed]",
      "text/plain": [
       "<Figure size 720x360 with 1 Axes>"
      ]
     },
     "metadata": {
      "needs_background": "light"
     },
     "output_type": "display_data"
    }
   ],
   "source": [
    "fig = plt.figure(figsize=(10,5))\n",
    "data.variety.value_counts().plot.bar(ylim=0)"
   ]
  },
  {
   "cell_type": "markdown",
   "metadata": {},
   "source": [
    "## Train test split\n",
    "\n",
    "**Originally I vectorized the \"desc_clean\" field before \"train_test_split\" step which is wrong. If we are dealing with new data we need to take care of the words which do not appear in the training data \n",
    "set**\n",
    "\n",
    "(notebook 3_Modeling - now moved to the reference folder \"notebooks\")\n"
   ]
  },
  {
   "cell_type": "code",
   "execution_count": 24,
   "metadata": {},
   "outputs": [],
   "source": [
    "# commented cell with the description vectorizing step.\n",
    "\n",
    "\n",
    "# from sklearn.feature_extraction.text import CountVectorizer\n",
    "\n",
    "# vectorizer = CountVectorizer()\n",
    "# input_data = vectorizer.fit_transform(data.desc_clean)\n",
    "\n",
    "# # if check of the input_data is needed\n",
    "# # pd.DataFrame(input_data.toarray(), columns=vectorizer.get_feature_names())"
   ]
  },
  {
   "cell_type": "code",
   "execution_count": 24,
   "metadata": {},
   "outputs": [],
   "source": [
    "X_train, X_test, y_train, y_test = train_test_split(data.desc_clean, data.variety, test_size = 0.2, random_state = 42)"
   ]
  },
  {
   "cell_type": "markdown",
   "metadata": {},
   "source": [
    "**Now is the right time to vectorize the data**\n",
    "\n",
    "Additionally when applying vectorizer on the test dataset, a \"transform\" method needs to be used.\n",
    "\n",
    "The CountVectorizer has already been fitted with the training data. So for our test data, we want to call transform(), not fit_transform().\n",
    "\n",
    "**Otherwise, if we use fit_transform() again on our test data, we'll get different columns based on the unique vocabulary of the test data and Python will throw an error: Dimension Mismatch**"
   ]
  },
  {
   "cell_type": "code",
   "execution_count": 26,
   "metadata": {},
   "outputs": [],
   "source": [
    "vectorizer = CountVectorizer()\n",
    "\n",
    "X_train = vectorizer.fit_transform(X_train)\n",
    "X_test = vectorizer.transform(X_test)"
   ]
  },
  {
   "cell_type": "code",
   "execution_count": 27,
   "metadata": {},
   "outputs": [
    {
     "name": "stdout",
     "output_type": "stream",
     "text": [
      "(51786, 16373)\n",
      "(12947, 16373)\n"
     ]
    }
   ],
   "source": [
    "# printing X_train and X_test shapes just to confirm dimensions\n",
    "\n",
    "print(X_train.shape)\n",
    "print(X_test.shape)"
   ]
  },
  {
   "cell_type": "markdown",
   "metadata": {},
   "source": [
    "# Modelling"
   ]
  },
  {
   "cell_type": "markdown",
   "metadata": {},
   "source": [
    "## Finding the right estimator\n",
    "\n"
   ]
  },
  {
   "cell_type": "markdown",
   "metadata": {},
   "source": [
    "To find the right algorithm to our problem, we are going to use some help from Scikit Learn cheat-sheet (below)\n"
   ]
  },
  {
   "cell_type": "code",
   "execution_count": 28,
   "metadata": {},
   "outputs": [
    {
     "data": {
      "text/html": [
       "<img src=\"https://scikit-learn.org/stable/_static/ml_map.png\"/>"
      ],
      "text/plain": [
       "<IPython.core.display.Image object>"
      ]
     },
     "execution_count": 28,
     "metadata": {},
     "output_type": "execute_result"
    }
   ],
   "source": [
    "from IPython.display import Image\n",
    "\n",
    "Image(url='https://scikit-learn.org/stable/_static/ml_map.png')"
   ]
  },
  {
   "cell_type": "markdown",
   "metadata": {},
   "source": [
    "We are going to use:\n",
    "* Naive Bayes\n",
    "* Linear SVM\n",
    "* SVM \n",
    "* and one of the Ensemble Classifier - Random Forest\n",
    "\n",
    "We're going to fine tune the models as best as possible and choose the one with the highest accuracy."
   ]
  },
  {
   "cell_type": "markdown",
   "metadata": {},
   "source": [
    "## Baseline models\n",
    "\n",
    "Let's start our prediction with Naive Bayes model as the baseline. Additionally let's create a function which allow us to evaluate trained models quickly."
   ]
  },
  {
   "cell_type": "code",
   "execution_count": 29,
   "metadata": {},
   "outputs": [],
   "source": [
    "# function to evalute models on the test set\n",
    "def evaluate_model(model, X_test = X_test, y_test = y_test):\n",
    "    y_pred = model.predict(X_test)\n",
    "        \n",
    "    print(classification_report(y_test, y_pred))\n"
   ]
  },
  {
   "cell_type": "markdown",
   "metadata": {},
   "source": [
    "### Multinomial Naive Bayes Baseline"
   ]
  },
  {
   "cell_type": "code",
   "execution_count": 30,
   "metadata": {},
   "outputs": [
    {
     "name": "stdout",
     "output_type": "stream",
     "text": [
      "                          precision    recall  f1-score   support\n",
      "\n",
      "Bordeaux-style Red Blend       0.64      0.69      0.66      1033\n",
      "      Cabernet Sauvignon       0.54      0.72      0.61      1583\n",
      "              Chardonnay       0.81      0.89      0.85      1880\n",
      "                  Malbec       0.41      0.36      0.38       390\n",
      "                  Merlot       0.61      0.21      0.31       683\n",
      "              Pinot Noir       0.77      0.77      0.77      1914\n",
      "               Red Blend       0.55      0.68      0.61      1292\n",
      "                Riesling       0.83      0.83      0.83       694\n",
      "                    Rosé       0.79      0.65      0.71       356\n",
      "              Sangiovese       0.68      0.48      0.56       396\n",
      "         Sauvignon Blanc       0.77      0.71      0.74       806\n",
      "                   Syrah       0.75      0.44      0.55       720\n",
      "             Tempranillo       0.40      0.49      0.44       352\n",
      "             White Blend       0.81      0.55      0.65       365\n",
      "               Zinfandel       0.69      0.64      0.66       483\n",
      "\n",
      "                accuracy                           0.67     12947\n",
      "               macro avg       0.67      0.61      0.62     12947\n",
      "            weighted avg       0.68      0.67      0.67     12947\n",
      "\n",
      "CPU times: user 572 ms, sys: 28.1 ms, total: 600 ms\n",
      "Wall time: 614 ms\n"
     ]
    }
   ],
   "source": [
    "%%time\n",
    "\n",
    "multinomial_NB_base = MultinomialNB()\n",
    "\n",
    "multinomial_NB_base.fit(X_train,y_train)\n",
    "evaluate_model(multinomial_NB_base)"
   ]
  },
  {
   "cell_type": "markdown",
   "metadata": {},
   "source": [
    "### Support Vector Machines Baseline"
   ]
  },
  {
   "cell_type": "code",
   "execution_count": 73,
   "metadata": {},
   "outputs": [
    {
     "name": "stdout",
     "output_type": "stream",
     "text": [
      "                          precision    recall  f1-score   support\n",
      "\n",
      "Bordeaux-style Red Blend       0.78      0.75      0.76      1033\n",
      "      Cabernet Sauvignon       0.58      0.81      0.67      1583\n",
      "              Chardonnay       0.79      0.94      0.86      1880\n",
      "                  Malbec       0.67      0.44      0.53       390\n",
      "                  Merlot       0.86      0.44      0.58       683\n",
      "              Pinot Noir       0.75      0.84      0.79      1914\n",
      "               Red Blend       0.67      0.68      0.68      1292\n",
      "                Riesling       0.86      0.82      0.84       694\n",
      "                    Rosé       0.82      0.74      0.78       356\n",
      "              Sangiovese       0.73      0.53      0.61       396\n",
      "         Sauvignon Blanc       0.82      0.73      0.77       806\n",
      "                   Syrah       0.80      0.56      0.66       720\n",
      "             Tempranillo       0.51      0.43      0.47       352\n",
      "             White Blend       0.85      0.58      0.69       365\n",
      "               Zinfandel       0.86      0.70      0.77       483\n",
      "\n",
      "                accuracy                           0.74     12947\n",
      "               macro avg       0.76      0.67      0.70     12947\n",
      "            weighted avg       0.75      0.74      0.73     12947\n",
      "\n",
      "CPU times: user 10min 55s, sys: 8.57 s, total: 11min 4s\n",
      "Wall time: 11min 12s\n"
     ]
    }
   ],
   "source": [
    "%%time\n",
    "\n",
    "svm_base = SVC()\n",
    "\n",
    "svm_base.fit(X_train,y_train)\n",
    "evaluate_model(svm_base)"
   ]
  },
  {
   "cell_type": "markdown",
   "metadata": {},
   "source": [
    "### Linear Support Vector Machines"
   ]
  },
  {
   "cell_type": "markdown",
   "metadata": {},
   "source": [
    "With linear SVM we're getting a Convergence Warning: \"Liblinear failed to converge, increase the number of iterations...\". According to the LinearSVM documentation:\n",
    "\n",
    "\"dual : bool, default=True\n",
    "    Select the algorithm to either solve the dual or primal\n",
    "    optimization problem. Prefer dual=False when n_samples > n_features.\"\n",
    "    \n",
    "Let's check shape of the training dataset."
   ]
  },
  {
   "cell_type": "code",
   "execution_count": 70,
   "metadata": {},
   "outputs": [
    {
     "data": {
      "text/plain": [
       "(51786, 17818)"
      ]
     },
     "execution_count": 70,
     "metadata": {},
     "output_type": "execute_result"
    }
   ],
   "source": [
    "X_train.shape"
   ]
  },
  {
   "cell_type": "markdown",
   "metadata": {},
   "source": [
    "In our case the number of n_samples (rows in the training dataset = 51786 ) is bigger than n_features (number of columns = 17818), so let's set dual to False."
   ]
  },
  {
   "cell_type": "code",
   "execution_count": 72,
   "metadata": {},
   "outputs": [
    {
     "name": "stdout",
     "output_type": "stream",
     "text": [
      "                          precision    recall  f1-score   support\n",
      "\n",
      "Bordeaux-style Red Blend       0.70      0.71      0.71      1033\n",
      "      Cabernet Sauvignon       0.65      0.69      0.67      1583\n",
      "              Chardonnay       0.83      0.87      0.85      1880\n",
      "                  Malbec       0.46      0.45      0.45       390\n",
      "                  Merlot       0.56      0.48      0.52       683\n",
      "              Pinot Noir       0.77      0.80      0.79      1914\n",
      "               Red Blend       0.67      0.65      0.66      1292\n",
      "                Riesling       0.81      0.82      0.82       694\n",
      "                    Rosé       0.70      0.72      0.71       356\n",
      "              Sangiovese       0.58      0.58      0.58       396\n",
      "         Sauvignon Blanc       0.75      0.73      0.74       806\n",
      "                   Syrah       0.66      0.60      0.63       720\n",
      "             Tempranillo       0.51      0.47      0.49       352\n",
      "             White Blend       0.70      0.56      0.63       365\n",
      "               Zinfandel       0.69      0.73      0.71       483\n",
      "\n",
      "                accuracy                           0.71     12947\n",
      "               macro avg       0.67      0.66      0.66     12947\n",
      "            weighted avg       0.70      0.71      0.70     12947\n",
      "\n",
      "CPU times: user 50.1 s, sys: 7.53 s, total: 57.7 s\n",
      "Wall time: 15.3 s\n"
     ]
    }
   ],
   "source": [
    "%%time\n",
    "\n",
    "linear_svm_base = LinearSVC(dual=False)\n",
    "\n",
    "linear_svm_base.fit(X_train,y_train)\n",
    "evaluate_model(linear_svm_base)"
   ]
  },
  {
   "cell_type": "markdown",
   "metadata": {},
   "source": [
    "### Random Forest"
   ]
  },
  {
   "cell_type": "code",
   "execution_count": 74,
   "metadata": {},
   "outputs": [
    {
     "name": "stdout",
     "output_type": "stream",
     "text": [
      "                          precision    recall  f1-score   support\n",
      "\n",
      "Bordeaux-style Red Blend       0.70      0.72      0.71      1033\n",
      "      Cabernet Sauvignon       0.53      0.81      0.64      1583\n",
      "              Chardonnay       0.69      0.97      0.81      1880\n",
      "                  Malbec       0.75      0.29      0.42       390\n",
      "                  Merlot       0.84      0.38      0.53       683\n",
      "              Pinot Noir       0.67      0.83      0.74      1914\n",
      "               Red Blend       0.63      0.67      0.65      1292\n",
      "                Riesling       0.90      0.72      0.80       694\n",
      "                    Rosé       0.81      0.63      0.71       356\n",
      "              Sangiovese       0.84      0.34      0.48       396\n",
      "         Sauvignon Blanc       0.83      0.68      0.75       806\n",
      "                   Syrah       0.89      0.48      0.63       720\n",
      "             Tempranillo       0.63      0.19      0.29       352\n",
      "             White Blend       0.98      0.33      0.49       365\n",
      "               Zinfandel       0.84      0.66      0.74       483\n",
      "\n",
      "                accuracy                           0.69     12947\n",
      "               macro avg       0.77      0.58      0.63     12947\n",
      "            weighted avg       0.72      0.69      0.68     12947\n",
      "\n",
      "CPU times: user 2min 31s, sys: 2.04 s, total: 2min 33s\n",
      "Wall time: 2min 36s\n"
     ]
    }
   ],
   "source": [
    "%%time\n",
    "\n",
    "random_forest_base = RandomForestClassifier()\n",
    "\n",
    "random_forest_base.fit(X_train,y_train)\n",
    "evaluate_model(random_forest_base)"
   ]
  },
  {
   "cell_type": "markdown",
   "metadata": {},
   "source": [
    "### Baseline Models Summary"
   ]
  },
  {
   "cell_type": "markdown",
   "metadata": {},
   "source": [
    "Without any significant effort, predicting the grape variety on blank classifiers, we got **accuracy** results as follows:\n",
    "1. Multinomial Naive Bayes = 0.67\n",
    "2. Support Vector Machines = 0.74\n",
    "3. Linear SVM = 0.71\n",
    "4. Random Forest = 0.69\n",
    "\n",
    "**We got the best results from SVM**\n",
    "\n",
    "What needs to be noticed that the SVM was the most time consuming model to train and evaluate. It took us more than 11 minutes. Compared to the rest of the models it was significantly harder to train:\n",
    "1. Naive Bayes = 584 ms\n",
    "2. Linear SVM = 57.7 sec\n",
    "3. Random Forest = 2 min 33 sec\n"
   ]
  },
  {
   "cell_type": "markdown",
   "metadata": {},
   "source": [
    "## Models Fine Tuning"
   ]
  },
  {
   "cell_type": "markdown",
   "metadata": {},
   "source": [
    "### Multinomial Naive Bayes"
   ]
  },
  {
   "cell_type": "markdown",
   "metadata": {},
   "source": [
    "#### Multinomial Naive Bayes with alpha GridSearch"
   ]
  },
  {
   "cell_type": "code",
   "execution_count": 93,
   "metadata": {},
   "outputs": [
    {
     "name": "stdout",
     "output_type": "stream",
     "text": [
      "Fitting 5 folds for each of 5 candidates, totalling 25 fits\n"
     ]
    },
    {
     "name": "stderr",
     "output_type": "stream",
     "text": [
      "[Parallel(n_jobs=-1)]: Using backend LokyBackend with 8 concurrent workers.\n",
      "[Parallel(n_jobs=-1)]: Done   2 tasks      | elapsed:    0.5s\n",
      "[Parallel(n_jobs=-1)]: Done  16 out of  25 | elapsed:    1.1s remaining:    0.6s\n",
      "[Parallel(n_jobs=-1)]: Done  22 out of  25 | elapsed:    1.4s remaining:    0.2s\n",
      "[Parallel(n_jobs=-1)]: Done  25 out of  25 | elapsed:    1.6s finished\n"
     ]
    },
    {
     "name": "stdout",
     "output_type": "stream",
     "text": [
      "Train Accuracy : 0.749\n",
      "Test Accuracy : 0.676\n",
      "Best Accuracy Through Grid Search : 0.681\n",
      "Best Parameters :  {'alpha': 0.5}\n",
      "                          precision    recall  f1-score   support\n",
      "\n",
      "Bordeaux-style Red Blend       0.63      0.69      0.66      1033\n",
      "      Cabernet Sauvignon       0.59      0.66      0.62      1583\n",
      "              Chardonnay       0.84      0.86      0.85      1880\n",
      "                  Malbec       0.38      0.42      0.40       390\n",
      "                  Merlot       0.54      0.31      0.39       683\n",
      "              Pinot Noir       0.81      0.74      0.77      1914\n",
      "               Red Blend       0.59      0.63      0.61      1292\n",
      "                Riesling       0.82      0.84      0.83       694\n",
      "                    Rosé       0.74      0.74      0.74       356\n",
      "              Sangiovese       0.58      0.57      0.58       396\n",
      "         Sauvignon Blanc       0.75      0.74      0.75       806\n",
      "                   Syrah       0.67      0.48      0.56       720\n",
      "             Tempranillo       0.36      0.57      0.44       352\n",
      "             White Blend       0.72      0.61      0.66       365\n",
      "               Zinfandel       0.64      0.70      0.67       483\n",
      "\n",
      "                accuracy                           0.68     12947\n",
      "               macro avg       0.64      0.64      0.64     12947\n",
      "            weighted avg       0.68      0.68      0.68     12947\n",
      "\n",
      "CPU times: user 944 ms, sys: 112 ms, total: 1.06 s\n",
      "Wall time: 2.58 s\n"
     ]
    }
   ],
   "source": [
    "%%time\n",
    "# Let's tune up the NB model by searching for better alpha parameter \n",
    "\n",
    "params = {'alpha': [0.01, 0.1, 0.5, 1.0, 10.0, ],\n",
    "         }\n",
    "\n",
    "multinomial_nb_grid = GridSearchCV(MultinomialNB(), param_grid=params, n_jobs=-1, cv=5, verbose=5)\n",
    "multinomial_nb_grid.fit(X_train,y_train)\n",
    "\n",
    "print('Train Accuracy : %.3f'%multinomial_nb_grid.best_estimator_.score(X_train, y_train))\n",
    "print('Test Accuracy : %.3f'%multinomial_nb_grid.best_estimator_.score(X_test, y_test))\n",
    "print('Best Accuracy Through Grid Search : %.3f'%multinomial_nb_grid.best_score_)\n",
    "print('Best Parameters : ',multinomial_nb_grid.best_params_)\n",
    "\n",
    "evaluate_model(multinomial_nb_grid)"
   ]
  },
  {
   "cell_type": "markdown",
   "metadata": {},
   "source": [
    "Well, the accuracy slightly went up, but it is still far less than with other models baselines. Let's try to transform our vectorized count matrix to a normalized Term Frequency representation.\n"
   ]
  },
  {
   "cell_type": "markdown",
   "metadata": {},
   "source": [
    "#### Multinomial Naive Bayes with TfidfTransformer"
   ]
  },
  {
   "cell_type": "markdown",
   "metadata": {},
   "source": [
    "The goal of using tf-idf instead of the raw frequencies of occurrence of a token in a given document is to scale down the impact of tokens that occur very frequently in a given corpus and that are hence empirically less informative than features that occur in a small fraction of the training corpus."
   ]
  },
  {
   "cell_type": "code",
   "execution_count": 108,
   "metadata": {},
   "outputs": [
    {
     "name": "stdout",
     "output_type": "stream",
     "text": [
      "Fitting 5 folds for each of 24 candidates, totalling 120 fits\n"
     ]
    },
    {
     "name": "stderr",
     "output_type": "stream",
     "text": [
      "[Parallel(n_jobs=1)]: Using backend SequentialBackend with 1 concurrent workers.\n",
      "[Parallel(n_jobs=1)]: Done 120 out of 120 | elapsed:   29.5s finished\n"
     ]
    },
    {
     "name": "stdout",
     "output_type": "stream",
     "text": [
      "Train Accuracy : 0.761\n",
      "Test Accuracy : 0.660\n",
      "Best Accuracy Through Grid Search : 0.663\n",
      "Best Parameters :  {'clf__alpha': 0.01, 'tfidf__norm': 'l2', 'tfidf__use_idf': False}\n",
      "                          precision    recall  f1-score   support\n",
      "\n",
      "Bordeaux-style Red Blend       0.68      0.67      0.67      1033\n",
      "      Cabernet Sauvignon       0.49      0.75      0.59      1583\n",
      "              Chardonnay       0.77      0.92      0.84      1880\n",
      "                  Malbec       0.44      0.31      0.36       390\n",
      "                  Merlot       0.65      0.14      0.24       683\n",
      "              Pinot Noir       0.72      0.80      0.76      1914\n",
      "               Red Blend       0.55      0.68      0.60      1292\n",
      "                Riesling       0.87      0.75      0.81       694\n",
      "                    Rosé       0.81      0.59      0.69       356\n",
      "              Sangiovese       0.71      0.42      0.53       396\n",
      "         Sauvignon Blanc       0.79      0.65      0.72       806\n",
      "                   Syrah       0.76      0.35      0.48       720\n",
      "             Tempranillo       0.40      0.41      0.41       352\n",
      "             White Blend       0.86      0.56      0.68       365\n",
      "               Zinfandel       0.74      0.58      0.65       483\n",
      "\n",
      "                accuracy                           0.66     12947\n",
      "               macro avg       0.68      0.57      0.60     12947\n",
      "            weighted avg       0.68      0.66      0.65     12947\n",
      "\n",
      "CPU times: user 28.2 s, sys: 1.91 s, total: 30.1 s\n",
      "Wall time: 30.4 s\n"
     ]
    }
   ],
   "source": [
    "%%time\n",
    "\n",
    "pipeline = Pipeline([('tfidf', TfidfTransformer()),\n",
    "                     ('clf', MultinomialNB())])\n",
    "\n",
    "tuned_parameters = {\n",
    "    'tfidf__use_idf': (True, False),\n",
    "    'tfidf__norm': ('l1', 'l2'),\n",
    "    'clf__alpha': [0.001, 0.01, 0.1, 0.5, 1.0, 10.0, ]   \n",
    "}\n",
    "\n",
    "multinomial_nb_tfidf = GridSearchCV(pipeline, param_grid=tuned_parameters, cv=5, verbose=True)#, n_jobs=-1, cv=2, verbose=True)\n",
    "multinomial_nb_tfidf.fit(X_train, y_train)\n",
    "\n",
    "print('Train Accuracy : %.3f'%multinomial_nb_tfidf.best_estimator_.score(X_train, y_train))\n",
    "print('Test Accuracy : %.3f'%multinomial_nb_tfidf.best_estimator_.score(X_test, y_test))\n",
    "print('Best Accuracy Through Grid Search : %.3f'%multinomial_nb_tfidf.best_score_)\n",
    "print('Best Parameters : ',multinomial_nb_tfidf.best_params_)\n",
    "\n",
    "evaluate_model(multinomial_nb_tfidf)"
   ]
  },
  {
   "cell_type": "markdown",
   "metadata": {},
   "source": [
    "Not very useful. **The accuracy actually dropped to 0.66.**"
   ]
  },
  {
   "cell_type": "markdown",
   "metadata": {},
   "source": [
    "### SVM"
   ]
  },
  {
   "cell_type": "markdown",
   "metadata": {},
   "source": [
    "We're going to leave the training of this model as a final stage of the models fine tuning.\n",
    "The time needed for training is approximately 40 hours\n",
    "Fitting 5 folds for each of 48 candidates, totaling 240 fits with at least 11 minutes each.\n",
    "Our project is weeks overdue and we don't want to waste more time. However we're going to put the code here for a reference purpose.\n"
   ]
  },
  {
   "cell_type": "code",
   "execution_count": 111,
   "metadata": {},
   "outputs": [],
   "source": [
    "# let's search for the best parameters for SVM\n",
    "\n",
    "# * we're going to leave the training of this model as a final stage of the models fine tuning.\n",
    "# The time needed for training is approximately 40 hours\n",
    "# Fitting 5 folds for each of 48 candidates, totalling 240 fits with at least 11 minutes each.\n",
    "# Our project is weeks overdue and we don't want to waste more time. However we're going to put the code here for a reference purpose.\n",
    "\n",
    "\n",
    "# pipeline = Pipeline([('svm', SVC())])\n",
    "\n",
    "# svm_params = {\n",
    "#     'svm__C' : [0.001, 0.01, 0.1, 0.5, 1.0, 10.0, 100.0, 1000.0 ], \n",
    "#     'svm__kernel' : ['linear','rbf','poly'],\n",
    "#     'svm__class_weight' : ['balanced',None]\n",
    "# }\n",
    "\n",
    "# svm_grid = GridSearchCV(pipeline, param_grid=svm_params, cv=5, verbose=True)\n",
    "# svm_grid.fit(X_train, y_train)\n",
    "\n",
    "# print('Train Accuracy : %.3f'%svm_grid.best_estimator_.score(X_train, y_train))\n",
    "# print('Test Accuracy : %.3f'%svm_grid.best_estimator_.score(X_test, y_test))\n",
    "# print('Best Accuracy Through Grid Search : %.3f'%svm_grid.best_score_)\n",
    "# print('Best Parameters : ',svm_grid.best_params_)\n",
    "\n",
    "# evaluate_model(svm_grid)"
   ]
  },
  {
   "cell_type": "markdown",
   "metadata": {},
   "source": [
    "### Linear SVM"
   ]
  },
  {
   "cell_type": "code",
   "execution_count": 124,
   "metadata": {},
   "outputs": [
    {
     "name": "stdout",
     "output_type": "stream",
     "text": [
      "Fitting 5 folds for each of 6 candidates, totalling 30 fits\n",
      "[CV] lin_svm__C=0.01, lin_svm__dual=False ............................\n"
     ]
    },
    {
     "name": "stderr",
     "output_type": "stream",
     "text": [
      "[Parallel(n_jobs=1)]: Using backend SequentialBackend with 1 concurrent workers.\n"
     ]
    },
    {
     "name": "stdout",
     "output_type": "stream",
     "text": [
      "[CV]  lin_svm__C=0.01, lin_svm__dual=False, score=0.744, total=   4.0s\n",
      "[CV] lin_svm__C=0.01, lin_svm__dual=False ............................\n"
     ]
    },
    {
     "name": "stderr",
     "output_type": "stream",
     "text": [
      "[Parallel(n_jobs=1)]: Done   1 out of   1 | elapsed:    4.0s remaining:    0.0s\n"
     ]
    },
    {
     "name": "stdout",
     "output_type": "stream",
     "text": [
      "[CV]  lin_svm__C=0.01, lin_svm__dual=False, score=0.735, total=   3.9s\n",
      "[CV] lin_svm__C=0.01, lin_svm__dual=False ............................\n"
     ]
    },
    {
     "name": "stderr",
     "output_type": "stream",
     "text": [
      "[Parallel(n_jobs=1)]: Done   2 out of   2 | elapsed:    7.9s remaining:    0.0s\n"
     ]
    },
    {
     "name": "stdout",
     "output_type": "stream",
     "text": [
      "[CV]  lin_svm__C=0.01, lin_svm__dual=False, score=0.737, total=   3.7s\n",
      "[CV] lin_svm__C=0.01, lin_svm__dual=False ............................\n"
     ]
    },
    {
     "name": "stderr",
     "output_type": "stream",
     "text": [
      "[Parallel(n_jobs=1)]: Done   3 out of   3 | elapsed:   11.7s remaining:    0.0s\n"
     ]
    },
    {
     "name": "stdout",
     "output_type": "stream",
     "text": [
      "[CV]  lin_svm__C=0.01, lin_svm__dual=False, score=0.745, total=   3.7s\n",
      "[CV] lin_svm__C=0.01, lin_svm__dual=False ............................\n"
     ]
    },
    {
     "name": "stderr",
     "output_type": "stream",
     "text": [
      "[Parallel(n_jobs=1)]: Done   4 out of   4 | elapsed:   15.4s remaining:    0.0s\n"
     ]
    },
    {
     "name": "stdout",
     "output_type": "stream",
     "text": [
      "[CV]  lin_svm__C=0.01, lin_svm__dual=False, score=0.736, total=   3.9s\n",
      "[CV] lin_svm__C=0.1, lin_svm__dual=False .............................\n",
      "[CV] . lin_svm__C=0.1, lin_svm__dual=False, score=0.735, total=   5.5s\n",
      "[CV] lin_svm__C=0.1, lin_svm__dual=False .............................\n",
      "[CV] . lin_svm__C=0.1, lin_svm__dual=False, score=0.726, total=   5.4s\n",
      "[CV] lin_svm__C=0.1, lin_svm__dual=False .............................\n",
      "[CV] . lin_svm__C=0.1, lin_svm__dual=False, score=0.731, total=   5.5s\n",
      "[CV] lin_svm__C=0.1, lin_svm__dual=False .............................\n",
      "[CV] . lin_svm__C=0.1, lin_svm__dual=False, score=0.745, total=   5.5s\n",
      "[CV] lin_svm__C=0.1, lin_svm__dual=False .............................\n",
      "[CV] . lin_svm__C=0.1, lin_svm__dual=False, score=0.731, total=   5.7s\n",
      "[CV] lin_svm__C=1.0, lin_svm__dual=False .............................\n",
      "[CV] . lin_svm__C=1.0, lin_svm__dual=False, score=0.699, total=   9.5s\n",
      "[CV] lin_svm__C=1.0, lin_svm__dual=False .............................\n",
      "[CV] . lin_svm__C=1.0, lin_svm__dual=False, score=0.690, total=   9.7s\n",
      "[CV] lin_svm__C=1.0, lin_svm__dual=False .............................\n",
      "[CV] . lin_svm__C=1.0, lin_svm__dual=False, score=0.695, total=   9.4s\n",
      "[CV] lin_svm__C=1.0, lin_svm__dual=False .............................\n",
      "[CV] . lin_svm__C=1.0, lin_svm__dual=False, score=0.710, total=   9.6s\n",
      "[CV] lin_svm__C=1.0, lin_svm__dual=False .............................\n",
      "[CV] . lin_svm__C=1.0, lin_svm__dual=False, score=0.700, total=  10.0s\n",
      "[CV] lin_svm__C=10.0, lin_svm__dual=False ............................\n",
      "[CV]  lin_svm__C=10.0, lin_svm__dual=False, score=0.655, total=  59.6s\n",
      "[CV] lin_svm__C=10.0, lin_svm__dual=False ............................\n",
      "[CV]  lin_svm__C=10.0, lin_svm__dual=False, score=0.650, total= 1.0min\n",
      "[CV] lin_svm__C=10.0, lin_svm__dual=False ............................\n",
      "[CV]  lin_svm__C=10.0, lin_svm__dual=False, score=0.653, total= 1.0min\n",
      "[CV] lin_svm__C=10.0, lin_svm__dual=False ............................\n",
      "[CV]  lin_svm__C=10.0, lin_svm__dual=False, score=0.667, total= 1.0min\n",
      "[CV] lin_svm__C=10.0, lin_svm__dual=False ............................\n",
      "[CV]  lin_svm__C=10.0, lin_svm__dual=False, score=0.655, total= 1.0min\n",
      "[CV] lin_svm__C=100.0, lin_svm__dual=False ...........................\n"
     ]
    },
    {
     "name": "stderr",
     "output_type": "stream",
     "text": [
      "/Library/Frameworks/Python.framework/Versions/3.8/lib/python3.8/site-packages/sklearn/svm/_base.py:976: ConvergenceWarning: Liblinear failed to converge, increase the number of iterations.\n",
      "  warnings.warn(\"Liblinear failed to converge, increase \"\n"
     ]
    },
    {
     "name": "stdout",
     "output_type": "stream",
     "text": [
      "[CV]  lin_svm__C=100.0, lin_svm__dual=False, score=0.627, total= 2.6min\n",
      "[CV] lin_svm__C=100.0, lin_svm__dual=False ...........................\n",
      "[CV]  lin_svm__C=100.0, lin_svm__dual=False, score=0.626, total= 2.7min\n",
      "[CV] lin_svm__C=100.0, lin_svm__dual=False ...........................\n",
      "[CV]  lin_svm__C=100.0, lin_svm__dual=False, score=0.627, total= 2.7min\n",
      "[CV] lin_svm__C=100.0, lin_svm__dual=False ...........................\n",
      "[CV]  lin_svm__C=100.0, lin_svm__dual=False, score=0.638, total= 2.7min\n",
      "[CV] lin_svm__C=100.0, lin_svm__dual=False ...........................\n",
      "[CV]  lin_svm__C=100.0, lin_svm__dual=False, score=0.627, total= 2.7min\n",
      "[CV] lin_svm__C=1000.0, lin_svm__dual=False ..........................\n",
      "[CV]  lin_svm__C=1000.0, lin_svm__dual=False, score=0.626, total= 2.8min\n",
      "[CV] lin_svm__C=1000.0, lin_svm__dual=False ..........................\n",
      "[CV]  lin_svm__C=1000.0, lin_svm__dual=False, score=0.622, total= 2.8min\n",
      "[CV] lin_svm__C=1000.0, lin_svm__dual=False ..........................\n",
      "[CV]  lin_svm__C=1000.0, lin_svm__dual=False, score=0.624, total= 2.6min\n",
      "[CV] lin_svm__C=1000.0, lin_svm__dual=False ..........................\n",
      "[CV]  lin_svm__C=1000.0, lin_svm__dual=False, score=0.636, total= 2.6min\n",
      "[CV] lin_svm__C=1000.0, lin_svm__dual=False ..........................\n",
      "[CV]  lin_svm__C=1000.0, lin_svm__dual=False, score=0.623, total= 2.6min\n"
     ]
    },
    {
     "name": "stderr",
     "output_type": "stream",
     "text": [
      "[Parallel(n_jobs=1)]: Done  30 out of  30 | elapsed: 33.3min finished\n"
     ]
    },
    {
     "name": "stdout",
     "output_type": "stream",
     "text": [
      "Train Accuracy : 0.806\n",
      "Test Accuracy : 0.741\n",
      "Best Accuracy Through Grid Search : 0.740\n",
      "Best Parameters :  {'lin_svm__C': 0.01, 'lin_svm__dual': False}\n",
      "                          precision    recall  f1-score   support\n",
      "\n",
      "Bordeaux-style Red Blend       0.73      0.74      0.74      1033\n",
      "      Cabernet Sauvignon       0.64      0.78      0.70      1583\n",
      "              Chardonnay       0.81      0.93      0.87      1880\n",
      "                  Malbec       0.59      0.44      0.50       390\n",
      "                  Merlot       0.75      0.48      0.58       683\n",
      "              Pinot Noir       0.75      0.85      0.79      1914\n",
      "               Red Blend       0.70      0.67      0.68      1292\n",
      "                Riesling       0.85      0.85      0.85       694\n",
      "                    Rosé       0.81      0.73      0.77       356\n",
      "              Sangiovese       0.70      0.61      0.65       396\n",
      "         Sauvignon Blanc       0.80      0.75      0.77       806\n",
      "                   Syrah       0.75      0.61      0.67       720\n",
      "             Tempranillo       0.56      0.50      0.53       352\n",
      "             White Blend       0.85      0.57      0.68       365\n",
      "               Zinfandel       0.82      0.72      0.76       483\n",
      "\n",
      "                accuracy                           0.74     12947\n",
      "               macro avg       0.74      0.68      0.70     12947\n",
      "            weighted avg       0.74      0.74      0.74     12947\n",
      "\n"
     ]
    }
   ],
   "source": [
    "pipeline = Pipeline([('lin_svm', LinearSVC())])\n",
    "\n",
    "lin_svm_params = {\n",
    "    'lin_svm__C' : [0.01, 0.1, 1.0, 10.0, 100.0, 1000.0 ],\n",
    "#     'lin_svm__penalty': ['l1', 'l2'],\n",
    "#     'lin_svm__loss': ['hinge', 'squared_hinge'],\n",
    "    'lin_svm__dual' : [False],\n",
    "#     'lin_svm__multi_class' : ['ovr', 'crammer_singer']\n",
    "}\n",
    "\n",
    "lin_svm_grid = GridSearchCV(pipeline, param_grid=lin_svm_params, cv=5, verbose=5)\n",
    "lin_svm_grid.fit(X_train, y_train)\n",
    "\n",
    "print('Train Accuracy : %.3f'%lin_svm_grid.best_estimator_.score(X_train, y_train))\n",
    "print('Test Accuracy : %.3f'%lin_svm_grid.best_estimator_.score(X_test, y_test))\n",
    "print('Best Accuracy Through Grid Search : %.3f'%lin_svm_grid.best_score_)\n",
    "print('Best Parameters : ',lin_svm_grid.best_params_)\n",
    "\n",
    "evaluate_model(lin_svm_grid)"
   ]
  },
  {
   "cell_type": "code",
   "execution_count": 126,
   "metadata": {},
   "outputs": [
    {
     "name": "stdout",
     "output_type": "stream",
     "text": [
      "Fitting 5 folds for each of 3 candidates, totalling 15 fits\n",
      "[CV] lin_svm__C=0.01, lin_svm__loss=hinge ............................\n"
     ]
    },
    {
     "name": "stderr",
     "output_type": "stream",
     "text": [
      "[Parallel(n_jobs=1)]: Using backend SequentialBackend with 1 concurrent workers.\n"
     ]
    },
    {
     "name": "stdout",
     "output_type": "stream",
     "text": [
      "[CV]  lin_svm__C=0.01, lin_svm__loss=hinge, score=0.717, total=   1.3s\n",
      "[CV] lin_svm__C=0.01, lin_svm__loss=hinge ............................\n"
     ]
    },
    {
     "name": "stderr",
     "output_type": "stream",
     "text": [
      "[Parallel(n_jobs=1)]: Done   1 out of   1 | elapsed:    1.3s remaining:    0.0s\n"
     ]
    },
    {
     "name": "stdout",
     "output_type": "stream",
     "text": [
      "[CV]  lin_svm__C=0.01, lin_svm__loss=hinge, score=0.717, total=   1.3s\n",
      "[CV] lin_svm__C=0.01, lin_svm__loss=hinge ............................\n"
     ]
    },
    {
     "name": "stderr",
     "output_type": "stream",
     "text": [
      "[Parallel(n_jobs=1)]: Done   2 out of   2 | elapsed:    2.6s remaining:    0.0s\n"
     ]
    },
    {
     "name": "stdout",
     "output_type": "stream",
     "text": [
      "[CV]  lin_svm__C=0.01, lin_svm__loss=hinge, score=0.714, total=   1.3s\n",
      "[CV] lin_svm__C=0.01, lin_svm__loss=hinge ............................\n"
     ]
    },
    {
     "name": "stderr",
     "output_type": "stream",
     "text": [
      "[Parallel(n_jobs=1)]: Done   3 out of   3 | elapsed:    4.0s remaining:    0.0s\n"
     ]
    },
    {
     "name": "stdout",
     "output_type": "stream",
     "text": [
      "[CV]  lin_svm__C=0.01, lin_svm__loss=hinge, score=0.724, total=   1.4s\n",
      "[CV] lin_svm__C=0.01, lin_svm__loss=hinge ............................\n"
     ]
    },
    {
     "name": "stderr",
     "output_type": "stream",
     "text": [
      "[Parallel(n_jobs=1)]: Done   4 out of   4 | elapsed:    5.4s remaining:    0.0s\n"
     ]
    },
    {
     "name": "stdout",
     "output_type": "stream",
     "text": [
      "[CV]  lin_svm__C=0.01, lin_svm__loss=hinge, score=0.717, total=   1.4s\n",
      "[CV] lin_svm__C=0.1, lin_svm__loss=hinge .............................\n",
      "[CV] . lin_svm__C=0.1, lin_svm__loss=hinge, score=0.735, total=   2.9s\n",
      "[CV] lin_svm__C=0.1, lin_svm__loss=hinge .............................\n",
      "[CV] . lin_svm__C=0.1, lin_svm__loss=hinge, score=0.730, total=   2.6s\n",
      "[CV] lin_svm__C=0.1, lin_svm__loss=hinge .............................\n",
      "[CV] . lin_svm__C=0.1, lin_svm__loss=hinge, score=0.735, total=   2.9s\n",
      "[CV] lin_svm__C=0.1, lin_svm__loss=hinge .............................\n",
      "[CV] . lin_svm__C=0.1, lin_svm__loss=hinge, score=0.744, total=   3.3s\n",
      "[CV] lin_svm__C=0.1, lin_svm__loss=hinge .............................\n",
      "[CV] . lin_svm__C=0.1, lin_svm__loss=hinge, score=0.732, total=   3.0s\n",
      "[CV] lin_svm__C=1.0, lin_svm__loss=hinge .............................\n"
     ]
    },
    {
     "name": "stderr",
     "output_type": "stream",
     "text": [
      "/Library/Frameworks/Python.framework/Versions/3.8/lib/python3.8/site-packages/sklearn/svm/_base.py:976: ConvergenceWarning: Liblinear failed to converge, increase the number of iterations.\n",
      "  warnings.warn(\"Liblinear failed to converge, increase \"\n"
     ]
    },
    {
     "name": "stdout",
     "output_type": "stream",
     "text": [
      "[CV] . lin_svm__C=1.0, lin_svm__loss=hinge, score=0.712, total=   8.6s\n",
      "[CV] lin_svm__C=1.0, lin_svm__loss=hinge .............................\n",
      "[CV] . lin_svm__C=1.0, lin_svm__loss=hinge, score=0.705, total=   7.7s\n",
      "[CV] lin_svm__C=1.0, lin_svm__loss=hinge .............................\n",
      "[CV] . lin_svm__C=1.0, lin_svm__loss=hinge, score=0.707, total=   7.6s\n",
      "[CV] lin_svm__C=1.0, lin_svm__loss=hinge .............................\n",
      "[CV] . lin_svm__C=1.0, lin_svm__loss=hinge, score=0.721, total=   7.6s\n",
      "[CV] lin_svm__C=1.0, lin_svm__loss=hinge .............................\n",
      "[CV] . lin_svm__C=1.0, lin_svm__loss=hinge, score=0.709, total=   7.5s\n"
     ]
    },
    {
     "name": "stderr",
     "output_type": "stream",
     "text": [
      "[Parallel(n_jobs=1)]: Done  15 out of  15 | elapsed:  1.0min finished\n"
     ]
    },
    {
     "name": "stdout",
     "output_type": "stream",
     "text": [
      "Train Accuracy : 0.842\n",
      "Test Accuracy : 0.737\n",
      "Best Accuracy Through Grid Search : 0.735\n",
      "Best Parameters :  {'lin_svm__C': 0.1, 'lin_svm__loss': 'hinge'}\n",
      "                          precision    recall  f1-score   support\n",
      "\n",
      "Bordeaux-style Red Blend       0.71      0.76      0.74      1033\n",
      "      Cabernet Sauvignon       0.67      0.73      0.70      1583\n",
      "              Chardonnay       0.82      0.92      0.87      1880\n",
      "                  Malbec       0.55      0.44      0.49       390\n",
      "                  Merlot       0.69      0.48      0.57       683\n",
      "              Pinot Noir       0.77      0.84      0.80      1914\n",
      "               Red Blend       0.70      0.66      0.68      1292\n",
      "                Riesling       0.83      0.85      0.84       694\n",
      "                    Rosé       0.74      0.76      0.75       356\n",
      "              Sangiovese       0.62      0.65      0.63       396\n",
      "         Sauvignon Blanc       0.80      0.75      0.78       806\n",
      "                   Syrah       0.71      0.60      0.65       720\n",
      "             Tempranillo       0.56      0.49      0.53       352\n",
      "             White Blend       0.80      0.59      0.68       365\n",
      "               Zinfandel       0.76      0.74      0.75       483\n",
      "\n",
      "                accuracy                           0.74     12947\n",
      "               macro avg       0.72      0.68      0.70     12947\n",
      "            weighted avg       0.73      0.74      0.73     12947\n",
      "\n"
     ]
    }
   ],
   "source": [
    "pipeline = Pipeline([('lin_svm', LinearSVC())])\n",
    "\n",
    "lin_svm_params = {\n",
    "    'lin_svm__C' : [0.01, 0.1, 1.0],\n",
    "#     'lin_svm__penalty': ['l1', 'l2'],\n",
    "    'lin_svm__loss': ['hinge'],\n",
    "#     'lin_svm__dual' : [False],\n",
    "#     'lin_svm__multi_class' : ['ovr', 'crammer_singer']\n",
    "}\n",
    "\n",
    "lin_svm_grid = GridSearchCV(pipeline, param_grid=lin_svm_params, cv=5, verbose=5)\n",
    "lin_svm_grid.fit(X_train, y_train)\n",
    "\n",
    "print('Train Accuracy : %.3f'%lin_svm_grid.best_estimator_.score(X_train, y_train))\n",
    "print('Test Accuracy : %.3f'%lin_svm_grid.best_estimator_.score(X_test, y_test))\n",
    "print('Best Accuracy Through Grid Search : %.3f'%lin_svm_grid.best_score_)\n",
    "print('Best Parameters : ',lin_svm_grid.best_params_)\n",
    "\n",
    "evaluate_model(lin_svm_grid)"
   ]
  },
  {
   "cell_type": "code",
   "execution_count": 127,
   "metadata": {},
   "outputs": [
    {
     "name": "stdout",
     "output_type": "stream",
     "text": [
      "Fitting 5 folds for each of 8 candidates, totalling 40 fits\n",
      "[CV] lin_svm__C=0.001, lin_svm__dual=False, lin_svm__penalty=l1 ......\n"
     ]
    },
    {
     "name": "stderr",
     "output_type": "stream",
     "text": [
      "[Parallel(n_jobs=1)]: Using backend SequentialBackend with 1 concurrent workers.\n"
     ]
    },
    {
     "name": "stdout",
     "output_type": "stream",
     "text": [
      "[CV]  lin_svm__C=0.001, lin_svm__dual=False, lin_svm__penalty=l1, score=0.563, total=   1.3s\n",
      "[CV] lin_svm__C=0.001, lin_svm__dual=False, lin_svm__penalty=l1 ......\n"
     ]
    },
    {
     "name": "stderr",
     "output_type": "stream",
     "text": [
      "[Parallel(n_jobs=1)]: Done   1 out of   1 | elapsed:    1.3s remaining:    0.0s\n"
     ]
    },
    {
     "name": "stdout",
     "output_type": "stream",
     "text": [
      "[CV]  lin_svm__C=0.001, lin_svm__dual=False, lin_svm__penalty=l1, score=0.556, total=   1.4s\n",
      "[CV] lin_svm__C=0.001, lin_svm__dual=False, lin_svm__penalty=l1 ......\n"
     ]
    },
    {
     "name": "stderr",
     "output_type": "stream",
     "text": [
      "[Parallel(n_jobs=1)]: Done   2 out of   2 | elapsed:    2.7s remaining:    0.0s\n"
     ]
    },
    {
     "name": "stdout",
     "output_type": "stream",
     "text": [
      "[CV]  lin_svm__C=0.001, lin_svm__dual=False, lin_svm__penalty=l1, score=0.550, total=   1.3s\n",
      "[CV] lin_svm__C=0.001, lin_svm__dual=False, lin_svm__penalty=l1 ......\n"
     ]
    },
    {
     "name": "stderr",
     "output_type": "stream",
     "text": [
      "[Parallel(n_jobs=1)]: Done   3 out of   3 | elapsed:    4.0s remaining:    0.0s\n"
     ]
    },
    {
     "name": "stdout",
     "output_type": "stream",
     "text": [
      "[CV]  lin_svm__C=0.001, lin_svm__dual=False, lin_svm__penalty=l1, score=0.565, total=   1.4s\n",
      "[CV] lin_svm__C=0.001, lin_svm__dual=False, lin_svm__penalty=l1 ......\n"
     ]
    },
    {
     "name": "stderr",
     "output_type": "stream",
     "text": [
      "[Parallel(n_jobs=1)]: Done   4 out of   4 | elapsed:    5.4s remaining:    0.0s\n"
     ]
    },
    {
     "name": "stdout",
     "output_type": "stream",
     "text": [
      "[CV]  lin_svm__C=0.001, lin_svm__dual=False, lin_svm__penalty=l1, score=0.558, total=   1.3s\n",
      "[CV] lin_svm__C=0.001, lin_svm__dual=False, lin_svm__penalty=l2 ......\n",
      "[CV]  lin_svm__C=0.001, lin_svm__dual=False, lin_svm__penalty=l2, score=0.705, total=   2.9s\n",
      "[CV] lin_svm__C=0.001, lin_svm__dual=False, lin_svm__penalty=l2 ......\n",
      "[CV]  lin_svm__C=0.001, lin_svm__dual=False, lin_svm__penalty=l2, score=0.701, total=   3.0s\n",
      "[CV] lin_svm__C=0.001, lin_svm__dual=False, lin_svm__penalty=l2 ......\n",
      "[CV]  lin_svm__C=0.001, lin_svm__dual=False, lin_svm__penalty=l2, score=0.704, total=   3.0s\n",
      "[CV] lin_svm__C=0.001, lin_svm__dual=False, lin_svm__penalty=l2 ......\n",
      "[CV]  lin_svm__C=0.001, lin_svm__dual=False, lin_svm__penalty=l2, score=0.712, total=   3.1s\n",
      "[CV] lin_svm__C=0.001, lin_svm__dual=False, lin_svm__penalty=l2 ......\n",
      "[CV]  lin_svm__C=0.001, lin_svm__dual=False, lin_svm__penalty=l2, score=0.703, total=   3.4s\n",
      "[CV] lin_svm__C=0.01, lin_svm__dual=False, lin_svm__penalty=l1 .......\n",
      "[CV]  lin_svm__C=0.01, lin_svm__dual=False, lin_svm__penalty=l1, score=0.679, total=   6.7s\n",
      "[CV] lin_svm__C=0.01, lin_svm__dual=False, lin_svm__penalty=l1 .......\n",
      "[CV]  lin_svm__C=0.01, lin_svm__dual=False, lin_svm__penalty=l1, score=0.674, total=   6.3s\n",
      "[CV] lin_svm__C=0.01, lin_svm__dual=False, lin_svm__penalty=l1 .......\n",
      "[CV]  lin_svm__C=0.01, lin_svm__dual=False, lin_svm__penalty=l1, score=0.675, total=   6.6s\n",
      "[CV] lin_svm__C=0.01, lin_svm__dual=False, lin_svm__penalty=l1 .......\n",
      "[CV]  lin_svm__C=0.01, lin_svm__dual=False, lin_svm__penalty=l1, score=0.687, total=   6.3s\n",
      "[CV] lin_svm__C=0.01, lin_svm__dual=False, lin_svm__penalty=l1 .......\n",
      "[CV]  lin_svm__C=0.01, lin_svm__dual=False, lin_svm__penalty=l1, score=0.675, total=   6.3s\n",
      "[CV] lin_svm__C=0.01, lin_svm__dual=False, lin_svm__penalty=l2 .......\n",
      "[CV]  lin_svm__C=0.01, lin_svm__dual=False, lin_svm__penalty=l2, score=0.744, total=   3.7s\n",
      "[CV] lin_svm__C=0.01, lin_svm__dual=False, lin_svm__penalty=l2 .......\n",
      "[CV]  lin_svm__C=0.01, lin_svm__dual=False, lin_svm__penalty=l2, score=0.735, total=   3.7s\n",
      "[CV] lin_svm__C=0.01, lin_svm__dual=False, lin_svm__penalty=l2 .......\n",
      "[CV]  lin_svm__C=0.01, lin_svm__dual=False, lin_svm__penalty=l2, score=0.737, total=   3.7s\n",
      "[CV] lin_svm__C=0.01, lin_svm__dual=False, lin_svm__penalty=l2 .......\n",
      "[CV]  lin_svm__C=0.01, lin_svm__dual=False, lin_svm__penalty=l2, score=0.745, total=   3.7s\n",
      "[CV] lin_svm__C=0.01, lin_svm__dual=False, lin_svm__penalty=l2 .......\n",
      "[CV]  lin_svm__C=0.01, lin_svm__dual=False, lin_svm__penalty=l2, score=0.736, total=   3.8s\n",
      "[CV] lin_svm__C=0.1, lin_svm__dual=False, lin_svm__penalty=l1 ........\n",
      "[CV]  lin_svm__C=0.1, lin_svm__dual=False, lin_svm__penalty=l1, score=0.744, total=  20.3s\n",
      "[CV] lin_svm__C=0.1, lin_svm__dual=False, lin_svm__penalty=l1 ........\n",
      "[CV]  lin_svm__C=0.1, lin_svm__dual=False, lin_svm__penalty=l1, score=0.733, total=  20.2s\n",
      "[CV] lin_svm__C=0.1, lin_svm__dual=False, lin_svm__penalty=l1 ........\n",
      "[CV]  lin_svm__C=0.1, lin_svm__dual=False, lin_svm__penalty=l1, score=0.735, total=  19.7s\n",
      "[CV] lin_svm__C=0.1, lin_svm__dual=False, lin_svm__penalty=l1 ........\n",
      "[CV]  lin_svm__C=0.1, lin_svm__dual=False, lin_svm__penalty=l1, score=0.747, total=  19.5s\n",
      "[CV] lin_svm__C=0.1, lin_svm__dual=False, lin_svm__penalty=l1 ........\n",
      "[CV]  lin_svm__C=0.1, lin_svm__dual=False, lin_svm__penalty=l1, score=0.736, total=  19.9s\n",
      "[CV] lin_svm__C=0.1, lin_svm__dual=False, lin_svm__penalty=l2 ........\n",
      "[CV]  lin_svm__C=0.1, lin_svm__dual=False, lin_svm__penalty=l2, score=0.735, total=   5.3s\n",
      "[CV] lin_svm__C=0.1, lin_svm__dual=False, lin_svm__penalty=l2 ........\n",
      "[CV]  lin_svm__C=0.1, lin_svm__dual=False, lin_svm__penalty=l2, score=0.726, total=   5.6s\n",
      "[CV] lin_svm__C=0.1, lin_svm__dual=False, lin_svm__penalty=l2 ........\n",
      "[CV]  lin_svm__C=0.1, lin_svm__dual=False, lin_svm__penalty=l2, score=0.731, total=   5.7s\n",
      "[CV] lin_svm__C=0.1, lin_svm__dual=False, lin_svm__penalty=l2 ........\n",
      "[CV]  lin_svm__C=0.1, lin_svm__dual=False, lin_svm__penalty=l2, score=0.745, total=   5.7s\n",
      "[CV] lin_svm__C=0.1, lin_svm__dual=False, lin_svm__penalty=l2 ........\n",
      "[CV]  lin_svm__C=0.1, lin_svm__dual=False, lin_svm__penalty=l2, score=0.731, total=   5.7s\n",
      "[CV] lin_svm__C=1.0, lin_svm__dual=False, lin_svm__penalty=l1 ........\n",
      "[CV]  lin_svm__C=1.0, lin_svm__dual=False, lin_svm__penalty=l1, score=0.716, total=  49.3s\n",
      "[CV] lin_svm__C=1.0, lin_svm__dual=False, lin_svm__penalty=l1 ........\n"
     ]
    },
    {
     "name": "stderr",
     "output_type": "stream",
     "text": [
      "/Library/Frameworks/Python.framework/Versions/3.8/lib/python3.8/site-packages/sklearn/svm/_base.py:976: ConvergenceWarning: Liblinear failed to converge, increase the number of iterations.\n",
      "  warnings.warn(\"Liblinear failed to converge, increase \"\n"
     ]
    },
    {
     "name": "stdout",
     "output_type": "stream",
     "text": [
      "[CV]  lin_svm__C=1.0, lin_svm__dual=False, lin_svm__penalty=l1, score=0.707, total=  52.5s\n",
      "[CV] lin_svm__C=1.0, lin_svm__dual=False, lin_svm__penalty=l1 ........\n",
      "[CV]  lin_svm__C=1.0, lin_svm__dual=False, lin_svm__penalty=l1, score=0.712, total=  53.8s\n",
      "[CV] lin_svm__C=1.0, lin_svm__dual=False, lin_svm__penalty=l1 ........\n",
      "[CV]  lin_svm__C=1.0, lin_svm__dual=False, lin_svm__penalty=l1, score=0.726, total=  55.2s\n",
      "[CV] lin_svm__C=1.0, lin_svm__dual=False, lin_svm__penalty=l1 ........\n",
      "[CV]  lin_svm__C=1.0, lin_svm__dual=False, lin_svm__penalty=l1, score=0.717, total=  46.9s\n",
      "[CV] lin_svm__C=1.0, lin_svm__dual=False, lin_svm__penalty=l2 ........\n",
      "[CV]  lin_svm__C=1.0, lin_svm__dual=False, lin_svm__penalty=l2, score=0.699, total=   9.4s\n",
      "[CV] lin_svm__C=1.0, lin_svm__dual=False, lin_svm__penalty=l2 ........\n",
      "[CV]  lin_svm__C=1.0, lin_svm__dual=False, lin_svm__penalty=l2, score=0.690, total=   9.4s\n",
      "[CV] lin_svm__C=1.0, lin_svm__dual=False, lin_svm__penalty=l2 ........\n",
      "[CV]  lin_svm__C=1.0, lin_svm__dual=False, lin_svm__penalty=l2, score=0.695, total=   9.5s\n",
      "[CV] lin_svm__C=1.0, lin_svm__dual=False, lin_svm__penalty=l2 ........\n",
      "[CV]  lin_svm__C=1.0, lin_svm__dual=False, lin_svm__penalty=l2, score=0.710, total=   9.3s\n",
      "[CV] lin_svm__C=1.0, lin_svm__dual=False, lin_svm__penalty=l2 ........\n",
      "[CV]  lin_svm__C=1.0, lin_svm__dual=False, lin_svm__penalty=l2, score=0.700, total=   9.7s\n"
     ]
    },
    {
     "name": "stderr",
     "output_type": "stream",
     "text": [
      "[Parallel(n_jobs=1)]: Done  40 out of  40 | elapsed:  8.4min finished\n"
     ]
    },
    {
     "name": "stdout",
     "output_type": "stream",
     "text": [
      "Train Accuracy : 0.806\n",
      "Test Accuracy : 0.741\n",
      "Best Accuracy Through Grid Search : 0.740\n",
      "Best Parameters :  {'lin_svm__C': 0.01, 'lin_svm__dual': False, 'lin_svm__penalty': 'l2'}\n",
      "                          precision    recall  f1-score   support\n",
      "\n",
      "Bordeaux-style Red Blend       0.73      0.74      0.74      1033\n",
      "      Cabernet Sauvignon       0.64      0.78      0.70      1583\n",
      "              Chardonnay       0.81      0.93      0.87      1880\n",
      "                  Malbec       0.59      0.44      0.50       390\n",
      "                  Merlot       0.75      0.48      0.58       683\n",
      "              Pinot Noir       0.75      0.85      0.79      1914\n",
      "               Red Blend       0.70      0.67      0.68      1292\n",
      "                Riesling       0.85      0.85      0.85       694\n",
      "                    Rosé       0.81      0.73      0.77       356\n",
      "              Sangiovese       0.70      0.61      0.65       396\n",
      "         Sauvignon Blanc       0.80      0.75      0.77       806\n",
      "                   Syrah       0.75      0.61      0.67       720\n",
      "             Tempranillo       0.56      0.50      0.53       352\n",
      "             White Blend       0.85      0.57      0.68       365\n",
      "               Zinfandel       0.82      0.72      0.76       483\n",
      "\n",
      "                accuracy                           0.74     12947\n",
      "               macro avg       0.74      0.68      0.70     12947\n",
      "            weighted avg       0.74      0.74      0.74     12947\n",
      "\n"
     ]
    }
   ],
   "source": [
    "pipeline = Pipeline([('lin_svm', LinearSVC())])\n",
    "\n",
    "lin_svm_params = {\n",
    "    'lin_svm__C' : [0.001, 0.01, 0.1, 1.0],\n",
    "    'lin_svm__penalty': ['l1', 'l2'],\n",
    "#     'lin_svm__loss': ['hinge'],\n",
    "    'lin_svm__dual' : [False],\n",
    "#     'lin_svm__multi_class' : ['ovr', 'crammer_singer']\n",
    "}\n",
    "\n",
    "lin_svm_grid = GridSearchCV(pipeline, param_grid=lin_svm_params, cv=5, verbose=5)\n",
    "lin_svm_grid.fit(X_train, y_train)\n",
    "\n",
    "print('Train Accuracy : %.3f'%lin_svm_grid.best_estimator_.score(X_train, y_train))\n",
    "print('Test Accuracy : %.3f'%lin_svm_grid.best_estimator_.score(X_test, y_test))\n",
    "print('Best Accuracy Through Grid Search : %.3f'%lin_svm_grid.best_score_)\n",
    "print('Best Parameters : ',lin_svm_grid.best_params_)\n",
    "\n",
    "evaluate_model(lin_svm_grid)"
   ]
  },
  {
   "cell_type": "markdown",
   "metadata": {},
   "source": [
    "### Random Forest"
   ]
  },
  {
   "cell_type": "code",
   "execution_count": 128,
   "metadata": {},
   "outputs": [
    {
     "name": "stdout",
     "output_type": "stream",
     "text": [
      "Fitting 5 folds for each of 36 candidates, totalling 180 fits\n",
      "[CV] forest__class_weight=balanced, forest__max_depth=10, forest__min_samples_leaf=10, forest__n_estimators=100 \n"
     ]
    },
    {
     "name": "stderr",
     "output_type": "stream",
     "text": [
      "[Parallel(n_jobs=1)]: Using backend SequentialBackend with 1 concurrent workers.\n"
     ]
    },
    {
     "name": "stdout",
     "output_type": "stream",
     "text": [
      "[CV]  forest__class_weight=balanced, forest__max_depth=10, forest__min_samples_leaf=10, forest__n_estimators=100, score=0.635, total=   4.7s\n",
      "[CV] forest__class_weight=balanced, forest__max_depth=10, forest__min_samples_leaf=10, forest__n_estimators=100 \n"
     ]
    },
    {
     "name": "stderr",
     "output_type": "stream",
     "text": [
      "[Parallel(n_jobs=1)]: Done   1 out of   1 | elapsed:    4.7s remaining:    0.0s\n"
     ]
    },
    {
     "name": "stdout",
     "output_type": "stream",
     "text": [
      "[CV]  forest__class_weight=balanced, forest__max_depth=10, forest__min_samples_leaf=10, forest__n_estimators=100, score=0.614, total=   4.5s\n",
      "[CV] forest__class_weight=balanced, forest__max_depth=10, forest__min_samples_leaf=10, forest__n_estimators=100 \n"
     ]
    },
    {
     "name": "stderr",
     "output_type": "stream",
     "text": [
      "[Parallel(n_jobs=1)]: Done   2 out of   2 | elapsed:    9.2s remaining:    0.0s\n"
     ]
    },
    {
     "name": "stdout",
     "output_type": "stream",
     "text": [
      "[CV]  forest__class_weight=balanced, forest__max_depth=10, forest__min_samples_leaf=10, forest__n_estimators=100, score=0.628, total=   4.4s\n",
      "[CV] forest__class_weight=balanced, forest__max_depth=10, forest__min_samples_leaf=10, forest__n_estimators=100 \n"
     ]
    },
    {
     "name": "stderr",
     "output_type": "stream",
     "text": [
      "[Parallel(n_jobs=1)]: Done   3 out of   3 | elapsed:   13.6s remaining:    0.0s\n"
     ]
    },
    {
     "name": "stdout",
     "output_type": "stream",
     "text": [
      "[CV]  forest__class_weight=balanced, forest__max_depth=10, forest__min_samples_leaf=10, forest__n_estimators=100, score=0.637, total=   4.3s\n",
      "[CV] forest__class_weight=balanced, forest__max_depth=10, forest__min_samples_leaf=10, forest__n_estimators=100 \n"
     ]
    },
    {
     "name": "stderr",
     "output_type": "stream",
     "text": [
      "[Parallel(n_jobs=1)]: Done   4 out of   4 | elapsed:   17.9s remaining:    0.0s\n"
     ]
    },
    {
     "name": "stdout",
     "output_type": "stream",
     "text": [
      "[CV]  forest__class_weight=balanced, forest__max_depth=10, forest__min_samples_leaf=10, forest__n_estimators=100, score=0.634, total=   4.5s\n",
      "[CV] forest__class_weight=balanced, forest__max_depth=10, forest__min_samples_leaf=10, forest__n_estimators=500 \n",
      "[CV]  forest__class_weight=balanced, forest__max_depth=10, forest__min_samples_leaf=10, forest__n_estimators=500, score=0.661, total=  21.4s\n",
      "[CV] forest__class_weight=balanced, forest__max_depth=10, forest__min_samples_leaf=10, forest__n_estimators=500 \n",
      "[CV]  forest__class_weight=balanced, forest__max_depth=10, forest__min_samples_leaf=10, forest__n_estimators=500, score=0.647, total=  20.9s\n",
      "[CV] forest__class_weight=balanced, forest__max_depth=10, forest__min_samples_leaf=10, forest__n_estimators=500 \n",
      "[CV]  forest__class_weight=balanced, forest__max_depth=10, forest__min_samples_leaf=10, forest__n_estimators=500, score=0.647, total=  21.8s\n",
      "[CV] forest__class_weight=balanced, forest__max_depth=10, forest__min_samples_leaf=10, forest__n_estimators=500 \n",
      "[CV]  forest__class_weight=balanced, forest__max_depth=10, forest__min_samples_leaf=10, forest__n_estimators=500, score=0.663, total=  20.8s\n",
      "[CV] forest__class_weight=balanced, forest__max_depth=10, forest__min_samples_leaf=10, forest__n_estimators=500 \n",
      "[CV]  forest__class_weight=balanced, forest__max_depth=10, forest__min_samples_leaf=10, forest__n_estimators=500, score=0.652, total=  21.1s\n",
      "[CV] forest__class_weight=balanced, forest__max_depth=10, forest__min_samples_leaf=50, forest__n_estimators=100 \n",
      "[CV]  forest__class_weight=balanced, forest__max_depth=10, forest__min_samples_leaf=50, forest__n_estimators=100, score=0.615, total=   4.0s\n",
      "[CV] forest__class_weight=balanced, forest__max_depth=10, forest__min_samples_leaf=50, forest__n_estimators=100 \n",
      "[CV]  forest__class_weight=balanced, forest__max_depth=10, forest__min_samples_leaf=50, forest__n_estimators=100, score=0.617, total=   4.0s\n",
      "[CV] forest__class_weight=balanced, forest__max_depth=10, forest__min_samples_leaf=50, forest__n_estimators=100 \n",
      "[CV]  forest__class_weight=balanced, forest__max_depth=10, forest__min_samples_leaf=50, forest__n_estimators=100, score=0.618, total=   4.0s\n",
      "[CV] forest__class_weight=balanced, forest__max_depth=10, forest__min_samples_leaf=50, forest__n_estimators=100 \n",
      "[CV]  forest__class_weight=balanced, forest__max_depth=10, forest__min_samples_leaf=50, forest__n_estimators=100, score=0.618, total=   4.2s\n",
      "[CV] forest__class_weight=balanced, forest__max_depth=10, forest__min_samples_leaf=50, forest__n_estimators=100 \n",
      "[CV]  forest__class_weight=balanced, forest__max_depth=10, forest__min_samples_leaf=50, forest__n_estimators=100, score=0.608, total=   4.1s\n",
      "[CV] forest__class_weight=balanced, forest__max_depth=10, forest__min_samples_leaf=50, forest__n_estimators=500 \n",
      "[CV]  forest__class_weight=balanced, forest__max_depth=10, forest__min_samples_leaf=50, forest__n_estimators=500, score=0.639, total=  19.9s\n",
      "[CV] forest__class_weight=balanced, forest__max_depth=10, forest__min_samples_leaf=50, forest__n_estimators=500 \n",
      "[CV]  forest__class_weight=balanced, forest__max_depth=10, forest__min_samples_leaf=50, forest__n_estimators=500, score=0.635, total=  19.0s\n",
      "[CV] forest__class_weight=balanced, forest__max_depth=10, forest__min_samples_leaf=50, forest__n_estimators=500 \n",
      "[CV]  forest__class_weight=balanced, forest__max_depth=10, forest__min_samples_leaf=50, forest__n_estimators=500, score=0.629, total=  20.5s\n",
      "[CV] forest__class_weight=balanced, forest__max_depth=10, forest__min_samples_leaf=50, forest__n_estimators=500 \n",
      "[CV]  forest__class_weight=balanced, forest__max_depth=10, forest__min_samples_leaf=50, forest__n_estimators=500, score=0.641, total=  19.6s\n",
      "[CV] forest__class_weight=balanced, forest__max_depth=10, forest__min_samples_leaf=50, forest__n_estimators=500 \n",
      "[CV]  forest__class_weight=balanced, forest__max_depth=10, forest__min_samples_leaf=50, forest__n_estimators=500, score=0.638, total=  19.8s\n",
      "[CV] forest__class_weight=balanced, forest__max_depth=10, forest__min_samples_leaf=100, forest__n_estimators=100 \n",
      "[CV]  forest__class_weight=balanced, forest__max_depth=10, forest__min_samples_leaf=100, forest__n_estimators=100, score=0.626, total=   3.8s\n",
      "[CV] forest__class_weight=balanced, forest__max_depth=10, forest__min_samples_leaf=100, forest__n_estimators=100 \n",
      "[CV]  forest__class_weight=balanced, forest__max_depth=10, forest__min_samples_leaf=100, forest__n_estimators=100, score=0.608, total=   3.8s\n",
      "[CV] forest__class_weight=balanced, forest__max_depth=10, forest__min_samples_leaf=100, forest__n_estimators=100 \n",
      "[CV]  forest__class_weight=balanced, forest__max_depth=10, forest__min_samples_leaf=100, forest__n_estimators=100, score=0.605, total=   3.9s\n",
      "[CV] forest__class_weight=balanced, forest__max_depth=10, forest__min_samples_leaf=100, forest__n_estimators=100 \n",
      "[CV]  forest__class_weight=balanced, forest__max_depth=10, forest__min_samples_leaf=100, forest__n_estimators=100, score=0.601, total=   3.8s\n",
      "[CV] forest__class_weight=balanced, forest__max_depth=10, forest__min_samples_leaf=100, forest__n_estimators=100 \n",
      "[CV]  forest__class_weight=balanced, forest__max_depth=10, forest__min_samples_leaf=100, forest__n_estimators=100, score=0.606, total=   3.8s\n",
      "[CV] forest__class_weight=balanced, forest__max_depth=10, forest__min_samples_leaf=100, forest__n_estimators=500 \n",
      "[CV]  forest__class_weight=balanced, forest__max_depth=10, forest__min_samples_leaf=100, forest__n_estimators=500, score=0.636, total=  18.1s\n",
      "[CV] forest__class_weight=balanced, forest__max_depth=10, forest__min_samples_leaf=100, forest__n_estimators=500 \n",
      "[CV]  forest__class_weight=balanced, forest__max_depth=10, forest__min_samples_leaf=100, forest__n_estimators=500, score=0.631, total=  18.4s\n",
      "[CV] forest__class_weight=balanced, forest__max_depth=10, forest__min_samples_leaf=100, forest__n_estimators=500 \n",
      "[CV]  forest__class_weight=balanced, forest__max_depth=10, forest__min_samples_leaf=100, forest__n_estimators=500, score=0.625, total=  18.8s\n",
      "[CV] forest__class_weight=balanced, forest__max_depth=10, forest__min_samples_leaf=100, forest__n_estimators=500 \n",
      "[CV]  forest__class_weight=balanced, forest__max_depth=10, forest__min_samples_leaf=100, forest__n_estimators=500, score=0.639, total=  18.7s\n",
      "[CV] forest__class_weight=balanced, forest__max_depth=10, forest__min_samples_leaf=100, forest__n_estimators=500 \n",
      "[CV]  forest__class_weight=balanced, forest__max_depth=10, forest__min_samples_leaf=100, forest__n_estimators=500, score=0.622, total=  18.7s\n",
      "[CV] forest__class_weight=balanced, forest__max_depth=50, forest__min_samples_leaf=10, forest__n_estimators=100 \n",
      "[CV]  forest__class_weight=balanced, forest__max_depth=50, forest__min_samples_leaf=10, forest__n_estimators=100, score=0.664, total=  12.7s\n",
      "[CV] forest__class_weight=balanced, forest__max_depth=50, forest__min_samples_leaf=10, forest__n_estimators=100 \n",
      "[CV]  forest__class_weight=balanced, forest__max_depth=50, forest__min_samples_leaf=10, forest__n_estimators=100, score=0.657, total=  13.2s\n",
      "[CV] forest__class_weight=balanced, forest__max_depth=50, forest__min_samples_leaf=10, forest__n_estimators=100 \n",
      "[CV]  forest__class_weight=balanced, forest__max_depth=50, forest__min_samples_leaf=10, forest__n_estimators=100, score=0.652, total=  12.7s\n",
      "[CV] forest__class_weight=balanced, forest__max_depth=50, forest__min_samples_leaf=10, forest__n_estimators=100 \n",
      "[CV]  forest__class_weight=balanced, forest__max_depth=50, forest__min_samples_leaf=10, forest__n_estimators=100, score=0.664, total=  12.5s\n",
      "[CV] forest__class_weight=balanced, forest__max_depth=50, forest__min_samples_leaf=10, forest__n_estimators=100 \n",
      "[CV]  forest__class_weight=balanced, forest__max_depth=50, forest__min_samples_leaf=10, forest__n_estimators=100, score=0.650, total=  12.6s\n",
      "[CV] forest__class_weight=balanced, forest__max_depth=50, forest__min_samples_leaf=10, forest__n_estimators=500 \n",
      "[CV]  forest__class_weight=balanced, forest__max_depth=50, forest__min_samples_leaf=10, forest__n_estimators=500, score=0.667, total= 1.1min\n",
      "[CV] forest__class_weight=balanced, forest__max_depth=50, forest__min_samples_leaf=10, forest__n_estimators=500 \n",
      "[CV]  forest__class_weight=balanced, forest__max_depth=50, forest__min_samples_leaf=10, forest__n_estimators=500, score=0.662, total= 1.1min\n",
      "[CV] forest__class_weight=balanced, forest__max_depth=50, forest__min_samples_leaf=10, forest__n_estimators=500 \n"
     ]
    },
    {
     "name": "stdout",
     "output_type": "stream",
     "text": [
      "[CV]  forest__class_weight=balanced, forest__max_depth=50, forest__min_samples_leaf=10, forest__n_estimators=500, score=0.658, total= 1.2min\n",
      "[CV] forest__class_weight=balanced, forest__max_depth=50, forest__min_samples_leaf=10, forest__n_estimators=500 \n",
      "[CV]  forest__class_weight=balanced, forest__max_depth=50, forest__min_samples_leaf=10, forest__n_estimators=500, score=0.673, total= 1.2min\n",
      "[CV] forest__class_weight=balanced, forest__max_depth=50, forest__min_samples_leaf=10, forest__n_estimators=500 \n",
      "[CV]  forest__class_weight=balanced, forest__max_depth=50, forest__min_samples_leaf=10, forest__n_estimators=500, score=0.663, total= 1.1min\n",
      "[CV] forest__class_weight=balanced, forest__max_depth=50, forest__min_samples_leaf=50, forest__n_estimators=100 \n",
      "[CV]  forest__class_weight=balanced, forest__max_depth=50, forest__min_samples_leaf=50, forest__n_estimators=100, score=0.641, total=   9.0s\n",
      "[CV] forest__class_weight=balanced, forest__max_depth=50, forest__min_samples_leaf=50, forest__n_estimators=100 \n",
      "[CV]  forest__class_weight=balanced, forest__max_depth=50, forest__min_samples_leaf=50, forest__n_estimators=100, score=0.633, total=   9.1s\n",
      "[CV] forest__class_weight=balanced, forest__max_depth=50, forest__min_samples_leaf=50, forest__n_estimators=100 \n",
      "[CV]  forest__class_weight=balanced, forest__max_depth=50, forest__min_samples_leaf=50, forest__n_estimators=100, score=0.623, total=   8.5s\n",
      "[CV] forest__class_weight=balanced, forest__max_depth=50, forest__min_samples_leaf=50, forest__n_estimators=100 \n",
      "[CV]  forest__class_weight=balanced, forest__max_depth=50, forest__min_samples_leaf=50, forest__n_estimators=100, score=0.641, total=   8.2s\n",
      "[CV] forest__class_weight=balanced, forest__max_depth=50, forest__min_samples_leaf=50, forest__n_estimators=100 \n",
      "[CV]  forest__class_weight=balanced, forest__max_depth=50, forest__min_samples_leaf=50, forest__n_estimators=100, score=0.629, total=   8.6s\n",
      "[CV] forest__class_weight=balanced, forest__max_depth=50, forest__min_samples_leaf=50, forest__n_estimators=500 \n",
      "[CV]  forest__class_weight=balanced, forest__max_depth=50, forest__min_samples_leaf=50, forest__n_estimators=500, score=0.644, total=  43.0s\n",
      "[CV] forest__class_weight=balanced, forest__max_depth=50, forest__min_samples_leaf=50, forest__n_estimators=500 \n",
      "[CV]  forest__class_weight=balanced, forest__max_depth=50, forest__min_samples_leaf=50, forest__n_estimators=500, score=0.640, total=  43.7s\n",
      "[CV] forest__class_weight=balanced, forest__max_depth=50, forest__min_samples_leaf=50, forest__n_estimators=500 \n",
      "[CV]  forest__class_weight=balanced, forest__max_depth=50, forest__min_samples_leaf=50, forest__n_estimators=500, score=0.636, total=  41.6s\n",
      "[CV] forest__class_weight=balanced, forest__max_depth=50, forest__min_samples_leaf=50, forest__n_estimators=500 \n",
      "[CV]  forest__class_weight=balanced, forest__max_depth=50, forest__min_samples_leaf=50, forest__n_estimators=500, score=0.650, total=  41.7s\n",
      "[CV] forest__class_weight=balanced, forest__max_depth=50, forest__min_samples_leaf=50, forest__n_estimators=500 \n",
      "[CV]  forest__class_weight=balanced, forest__max_depth=50, forest__min_samples_leaf=50, forest__n_estimators=500, score=0.637, total=  42.8s\n",
      "[CV] forest__class_weight=balanced, forest__max_depth=50, forest__min_samples_leaf=100, forest__n_estimators=100 \n",
      "[CV]  forest__class_weight=balanced, forest__max_depth=50, forest__min_samples_leaf=100, forest__n_estimators=100, score=0.619, total=   6.8s\n",
      "[CV] forest__class_weight=balanced, forest__max_depth=50, forest__min_samples_leaf=100, forest__n_estimators=100 \n",
      "[CV]  forest__class_weight=balanced, forest__max_depth=50, forest__min_samples_leaf=100, forest__n_estimators=100, score=0.615, total=   6.5s\n",
      "[CV] forest__class_weight=balanced, forest__max_depth=50, forest__min_samples_leaf=100, forest__n_estimators=100 \n",
      "[CV]  forest__class_weight=balanced, forest__max_depth=50, forest__min_samples_leaf=100, forest__n_estimators=100, score=0.612, total=   6.5s\n",
      "[CV] forest__class_weight=balanced, forest__max_depth=50, forest__min_samples_leaf=100, forest__n_estimators=100 \n",
      "[CV]  forest__class_weight=balanced, forest__max_depth=50, forest__min_samples_leaf=100, forest__n_estimators=100, score=0.623, total=   6.4s\n",
      "[CV] forest__class_weight=balanced, forest__max_depth=50, forest__min_samples_leaf=100, forest__n_estimators=100 \n",
      "[CV]  forest__class_weight=balanced, forest__max_depth=50, forest__min_samples_leaf=100, forest__n_estimators=100, score=0.618, total=   6.6s\n",
      "[CV] forest__class_weight=balanced, forest__max_depth=50, forest__min_samples_leaf=100, forest__n_estimators=500 \n",
      "[CV]  forest__class_weight=balanced, forest__max_depth=50, forest__min_samples_leaf=100, forest__n_estimators=500, score=0.639, total=  33.1s\n",
      "[CV] forest__class_weight=balanced, forest__max_depth=50, forest__min_samples_leaf=100, forest__n_estimators=500 \n",
      "[CV]  forest__class_weight=balanced, forest__max_depth=50, forest__min_samples_leaf=100, forest__n_estimators=500, score=0.635, total=  31.7s\n",
      "[CV] forest__class_weight=balanced, forest__max_depth=50, forest__min_samples_leaf=100, forest__n_estimators=500 \n",
      "[CV]  forest__class_weight=balanced, forest__max_depth=50, forest__min_samples_leaf=100, forest__n_estimators=500, score=0.624, total=  32.5s\n",
      "[CV] forest__class_weight=balanced, forest__max_depth=50, forest__min_samples_leaf=100, forest__n_estimators=500 \n",
      "[CV]  forest__class_weight=balanced, forest__max_depth=50, forest__min_samples_leaf=100, forest__n_estimators=500, score=0.639, total=  31.6s\n",
      "[CV] forest__class_weight=balanced, forest__max_depth=50, forest__min_samples_leaf=100, forest__n_estimators=500 \n",
      "[CV]  forest__class_weight=balanced, forest__max_depth=50, forest__min_samples_leaf=100, forest__n_estimators=500, score=0.630, total=  30.8s\n",
      "[CV] forest__class_weight=balanced, forest__max_depth=100, forest__min_samples_leaf=10, forest__n_estimators=100 \n",
      "[CV]  forest__class_weight=balanced, forest__max_depth=100, forest__min_samples_leaf=10, forest__n_estimators=100, score=0.659, total=  13.9s\n",
      "[CV] forest__class_weight=balanced, forest__max_depth=100, forest__min_samples_leaf=10, forest__n_estimators=100 \n",
      "[CV]  forest__class_weight=balanced, forest__max_depth=100, forest__min_samples_leaf=10, forest__n_estimators=100, score=0.655, total=  14.2s\n",
      "[CV] forest__class_weight=balanced, forest__max_depth=100, forest__min_samples_leaf=10, forest__n_estimators=100 \n",
      "[CV]  forest__class_weight=balanced, forest__max_depth=100, forest__min_samples_leaf=10, forest__n_estimators=100, score=0.651, total=  14.7s\n",
      "[CV] forest__class_weight=balanced, forest__max_depth=100, forest__min_samples_leaf=10, forest__n_estimators=100 \n",
      "[CV]  forest__class_weight=balanced, forest__max_depth=100, forest__min_samples_leaf=10, forest__n_estimators=100, score=0.670, total=  14.5s\n",
      "[CV] forest__class_weight=balanced, forest__max_depth=100, forest__min_samples_leaf=10, forest__n_estimators=100 \n",
      "[CV]  forest__class_weight=balanced, forest__max_depth=100, forest__min_samples_leaf=10, forest__n_estimators=100, score=0.659, total=  14.9s\n",
      "[CV] forest__class_weight=balanced, forest__max_depth=100, forest__min_samples_leaf=10, forest__n_estimators=500 \n",
      "[CV]  forest__class_weight=balanced, forest__max_depth=100, forest__min_samples_leaf=10, forest__n_estimators=500, score=0.668, total= 1.2min\n",
      "[CV] forest__class_weight=balanced, forest__max_depth=100, forest__min_samples_leaf=10, forest__n_estimators=500 \n",
      "[CV]  forest__class_weight=balanced, forest__max_depth=100, forest__min_samples_leaf=10, forest__n_estimators=500, score=0.663, total= 1.2min\n",
      "[CV] forest__class_weight=balanced, forest__max_depth=100, forest__min_samples_leaf=10, forest__n_estimators=500 \n",
      "[CV]  forest__class_weight=balanced, forest__max_depth=100, forest__min_samples_leaf=10, forest__n_estimators=500, score=0.660, total= 1.2min\n",
      "[CV] forest__class_weight=balanced, forest__max_depth=100, forest__min_samples_leaf=10, forest__n_estimators=500 \n",
      "[CV]  forest__class_weight=balanced, forest__max_depth=100, forest__min_samples_leaf=10, forest__n_estimators=500, score=0.667, total= 1.2min\n",
      "[CV] forest__class_weight=balanced, forest__max_depth=100, forest__min_samples_leaf=10, forest__n_estimators=500 \n",
      "[CV]  forest__class_weight=balanced, forest__max_depth=100, forest__min_samples_leaf=10, forest__n_estimators=500, score=0.663, total= 1.2min\n",
      "[CV] forest__class_weight=balanced, forest__max_depth=100, forest__min_samples_leaf=50, forest__n_estimators=100 \n"
     ]
    },
    {
     "name": "stdout",
     "output_type": "stream",
     "text": [
      "[CV]  forest__class_weight=balanced, forest__max_depth=100, forest__min_samples_leaf=50, forest__n_estimators=100, score=0.631, total=   8.5s\n",
      "[CV] forest__class_weight=balanced, forest__max_depth=100, forest__min_samples_leaf=50, forest__n_estimators=100 \n",
      "[CV]  forest__class_weight=balanced, forest__max_depth=100, forest__min_samples_leaf=50, forest__n_estimators=100, score=0.632, total=   9.0s\n",
      "[CV] forest__class_weight=balanced, forest__max_depth=100, forest__min_samples_leaf=50, forest__n_estimators=100 \n",
      "[CV]  forest__class_weight=balanced, forest__max_depth=100, forest__min_samples_leaf=50, forest__n_estimators=100, score=0.624, total=   8.9s\n",
      "[CV] forest__class_weight=balanced, forest__max_depth=100, forest__min_samples_leaf=50, forest__n_estimators=100 \n",
      "[CV]  forest__class_weight=balanced, forest__max_depth=100, forest__min_samples_leaf=50, forest__n_estimators=100, score=0.642, total=   8.9s\n",
      "[CV] forest__class_weight=balanced, forest__max_depth=100, forest__min_samples_leaf=50, forest__n_estimators=100 \n",
      "[CV]  forest__class_weight=balanced, forest__max_depth=100, forest__min_samples_leaf=50, forest__n_estimators=100, score=0.634, total=   9.0s\n",
      "[CV] forest__class_weight=balanced, forest__max_depth=100, forest__min_samples_leaf=50, forest__n_estimators=500 \n",
      "[CV]  forest__class_weight=balanced, forest__max_depth=100, forest__min_samples_leaf=50, forest__n_estimators=500, score=0.646, total=  42.8s\n",
      "[CV] forest__class_weight=balanced, forest__max_depth=100, forest__min_samples_leaf=50, forest__n_estimators=500 \n",
      "[CV]  forest__class_weight=balanced, forest__max_depth=100, forest__min_samples_leaf=50, forest__n_estimators=500, score=0.642, total=  43.7s\n",
      "[CV] forest__class_weight=balanced, forest__max_depth=100, forest__min_samples_leaf=50, forest__n_estimators=500 \n",
      "[CV]  forest__class_weight=balanced, forest__max_depth=100, forest__min_samples_leaf=50, forest__n_estimators=500, score=0.640, total=  46.2s\n",
      "[CV] forest__class_weight=balanced, forest__max_depth=100, forest__min_samples_leaf=50, forest__n_estimators=500 \n",
      "[CV]  forest__class_weight=balanced, forest__max_depth=100, forest__min_samples_leaf=50, forest__n_estimators=500, score=0.652, total=  43.7s\n",
      "[CV] forest__class_weight=balanced, forest__max_depth=100, forest__min_samples_leaf=50, forest__n_estimators=500 \n",
      "[CV]  forest__class_weight=balanced, forest__max_depth=100, forest__min_samples_leaf=50, forest__n_estimators=500, score=0.641, total=  43.9s\n",
      "[CV] forest__class_weight=balanced, forest__max_depth=100, forest__min_samples_leaf=100, forest__n_estimators=100 \n",
      "[CV]  forest__class_weight=balanced, forest__max_depth=100, forest__min_samples_leaf=100, forest__n_estimators=100, score=0.630, total=   6.8s\n",
      "[CV] forest__class_weight=balanced, forest__max_depth=100, forest__min_samples_leaf=100, forest__n_estimators=100 \n",
      "[CV]  forest__class_weight=balanced, forest__max_depth=100, forest__min_samples_leaf=100, forest__n_estimators=100, score=0.624, total=   6.4s\n",
      "[CV] forest__class_weight=balanced, forest__max_depth=100, forest__min_samples_leaf=100, forest__n_estimators=100 \n",
      "[CV]  forest__class_weight=balanced, forest__max_depth=100, forest__min_samples_leaf=100, forest__n_estimators=100, score=0.610, total=   6.4s\n",
      "[CV] forest__class_weight=balanced, forest__max_depth=100, forest__min_samples_leaf=100, forest__n_estimators=100 \n",
      "[CV]  forest__class_weight=balanced, forest__max_depth=100, forest__min_samples_leaf=100, forest__n_estimators=100, score=0.636, total=   6.9s\n",
      "[CV] forest__class_weight=balanced, forest__max_depth=100, forest__min_samples_leaf=100, forest__n_estimators=100 \n",
      "[CV]  forest__class_weight=balanced, forest__max_depth=100, forest__min_samples_leaf=100, forest__n_estimators=100, score=0.624, total=   7.3s\n",
      "[CV] forest__class_weight=balanced, forest__max_depth=100, forest__min_samples_leaf=100, forest__n_estimators=500 \n",
      "[CV]  forest__class_weight=balanced, forest__max_depth=100, forest__min_samples_leaf=100, forest__n_estimators=500, score=0.635, total=  34.0s\n",
      "[CV] forest__class_weight=balanced, forest__max_depth=100, forest__min_samples_leaf=100, forest__n_estimators=500 \n",
      "[CV]  forest__class_weight=balanced, forest__max_depth=100, forest__min_samples_leaf=100, forest__n_estimators=500, score=0.629, total=  31.7s\n",
      "[CV] forest__class_weight=balanced, forest__max_depth=100, forest__min_samples_leaf=100, forest__n_estimators=500 \n",
      "[CV]  forest__class_weight=balanced, forest__max_depth=100, forest__min_samples_leaf=100, forest__n_estimators=500, score=0.628, total=  32.2s\n",
      "[CV] forest__class_weight=balanced, forest__max_depth=100, forest__min_samples_leaf=100, forest__n_estimators=500 \n",
      "[CV]  forest__class_weight=balanced, forest__max_depth=100, forest__min_samples_leaf=100, forest__n_estimators=500, score=0.638, total=  33.3s\n",
      "[CV] forest__class_weight=balanced, forest__max_depth=100, forest__min_samples_leaf=100, forest__n_estimators=500 \n",
      "[CV]  forest__class_weight=balanced, forest__max_depth=100, forest__min_samples_leaf=100, forest__n_estimators=500, score=0.626, total=  32.1s\n",
      "[CV] forest__class_weight=None, forest__max_depth=10, forest__min_samples_leaf=10, forest__n_estimators=100 \n",
      "[CV]  forest__class_weight=None, forest__max_depth=10, forest__min_samples_leaf=10, forest__n_estimators=100, score=0.457, total=   4.4s\n",
      "[CV] forest__class_weight=None, forest__max_depth=10, forest__min_samples_leaf=10, forest__n_estimators=100 \n",
      "[CV]  forest__class_weight=None, forest__max_depth=10, forest__min_samples_leaf=10, forest__n_estimators=100, score=0.466, total=   4.3s\n",
      "[CV] forest__class_weight=None, forest__max_depth=10, forest__min_samples_leaf=10, forest__n_estimators=100 \n",
      "[CV]  forest__class_weight=None, forest__max_depth=10, forest__min_samples_leaf=10, forest__n_estimators=100, score=0.463, total=   4.5s\n",
      "[CV] forest__class_weight=None, forest__max_depth=10, forest__min_samples_leaf=10, forest__n_estimators=100 \n",
      "[CV]  forest__class_weight=None, forest__max_depth=10, forest__min_samples_leaf=10, forest__n_estimators=100, score=0.451, total=   4.2s\n",
      "[CV] forest__class_weight=None, forest__max_depth=10, forest__min_samples_leaf=10, forest__n_estimators=100 \n",
      "[CV]  forest__class_weight=None, forest__max_depth=10, forest__min_samples_leaf=10, forest__n_estimators=100, score=0.457, total=   4.2s\n",
      "[CV] forest__class_weight=None, forest__max_depth=10, forest__min_samples_leaf=10, forest__n_estimators=500 \n",
      "[CV]  forest__class_weight=None, forest__max_depth=10, forest__min_samples_leaf=10, forest__n_estimators=500, score=0.468, total=  21.9s\n",
      "[CV] forest__class_weight=None, forest__max_depth=10, forest__min_samples_leaf=10, forest__n_estimators=500 \n",
      "[CV]  forest__class_weight=None, forest__max_depth=10, forest__min_samples_leaf=10, forest__n_estimators=500, score=0.459, total=  21.4s\n",
      "[CV] forest__class_weight=None, forest__max_depth=10, forest__min_samples_leaf=10, forest__n_estimators=500 \n",
      "[CV]  forest__class_weight=None, forest__max_depth=10, forest__min_samples_leaf=10, forest__n_estimators=500, score=0.457, total=  20.5s\n",
      "[CV] forest__class_weight=None, forest__max_depth=10, forest__min_samples_leaf=10, forest__n_estimators=500 \n",
      "[CV]  forest__class_weight=None, forest__max_depth=10, forest__min_samples_leaf=10, forest__n_estimators=500, score=0.471, total=  22.9s\n",
      "[CV] forest__class_weight=None, forest__max_depth=10, forest__min_samples_leaf=10, forest__n_estimators=500 \n",
      "[CV]  forest__class_weight=None, forest__max_depth=10, forest__min_samples_leaf=10, forest__n_estimators=500, score=0.456, total=  20.8s\n",
      "[CV] forest__class_weight=None, forest__max_depth=10, forest__min_samples_leaf=50, forest__n_estimators=100 \n",
      "[CV]  forest__class_weight=None, forest__max_depth=10, forest__min_samples_leaf=50, forest__n_estimators=100, score=0.424, total=   4.1s\n",
      "[CV] forest__class_weight=None, forest__max_depth=10, forest__min_samples_leaf=50, forest__n_estimators=100 \n",
      "[CV]  forest__class_weight=None, forest__max_depth=10, forest__min_samples_leaf=50, forest__n_estimators=100, score=0.442, total=   4.1s\n",
      "[CV] forest__class_weight=None, forest__max_depth=10, forest__min_samples_leaf=50, forest__n_estimators=100 \n",
      "[CV]  forest__class_weight=None, forest__max_depth=10, forest__min_samples_leaf=50, forest__n_estimators=100, score=0.456, total=   4.3s\n",
      "[CV] forest__class_weight=None, forest__max_depth=10, forest__min_samples_leaf=50, forest__n_estimators=100 \n"
     ]
    },
    {
     "name": "stdout",
     "output_type": "stream",
     "text": [
      "[CV]  forest__class_weight=None, forest__max_depth=10, forest__min_samples_leaf=50, forest__n_estimators=100, score=0.448, total=   4.1s\n",
      "[CV] forest__class_weight=None, forest__max_depth=10, forest__min_samples_leaf=50, forest__n_estimators=100 \n",
      "[CV]  forest__class_weight=None, forest__max_depth=10, forest__min_samples_leaf=50, forest__n_estimators=100, score=0.438, total=   4.0s\n",
      "[CV] forest__class_weight=None, forest__max_depth=10, forest__min_samples_leaf=50, forest__n_estimators=500 \n",
      "[CV]  forest__class_weight=None, forest__max_depth=10, forest__min_samples_leaf=50, forest__n_estimators=500, score=0.455, total=  20.3s\n",
      "[CV] forest__class_weight=None, forest__max_depth=10, forest__min_samples_leaf=50, forest__n_estimators=500 \n",
      "[CV]  forest__class_weight=None, forest__max_depth=10, forest__min_samples_leaf=50, forest__n_estimators=500, score=0.451, total=  19.3s\n",
      "[CV] forest__class_weight=None, forest__max_depth=10, forest__min_samples_leaf=50, forest__n_estimators=500 \n",
      "[CV]  forest__class_weight=None, forest__max_depth=10, forest__min_samples_leaf=50, forest__n_estimators=500, score=0.441, total=  20.1s\n",
      "[CV] forest__class_weight=None, forest__max_depth=10, forest__min_samples_leaf=50, forest__n_estimators=500 \n",
      "[CV]  forest__class_weight=None, forest__max_depth=10, forest__min_samples_leaf=50, forest__n_estimators=500, score=0.455, total=  19.4s\n",
      "[CV] forest__class_weight=None, forest__max_depth=10, forest__min_samples_leaf=50, forest__n_estimators=500 \n",
      "[CV]  forest__class_weight=None, forest__max_depth=10, forest__min_samples_leaf=50, forest__n_estimators=500, score=0.447, total=  19.6s\n",
      "[CV] forest__class_weight=None, forest__max_depth=10, forest__min_samples_leaf=100, forest__n_estimators=100 \n",
      "[CV]  forest__class_weight=None, forest__max_depth=10, forest__min_samples_leaf=100, forest__n_estimators=100, score=0.416, total=   4.0s\n",
      "[CV] forest__class_weight=None, forest__max_depth=10, forest__min_samples_leaf=100, forest__n_estimators=100 \n",
      "[CV]  forest__class_weight=None, forest__max_depth=10, forest__min_samples_leaf=100, forest__n_estimators=100, score=0.434, total=   4.0s\n",
      "[CV] forest__class_weight=None, forest__max_depth=10, forest__min_samples_leaf=100, forest__n_estimators=100 \n",
      "[CV]  forest__class_weight=None, forest__max_depth=10, forest__min_samples_leaf=100, forest__n_estimators=100, score=0.442, total=   3.9s\n",
      "[CV] forest__class_weight=None, forest__max_depth=10, forest__min_samples_leaf=100, forest__n_estimators=100 \n",
      "[CV]  forest__class_weight=None, forest__max_depth=10, forest__min_samples_leaf=100, forest__n_estimators=100, score=0.426, total=   3.9s\n",
      "[CV] forest__class_weight=None, forest__max_depth=10, forest__min_samples_leaf=100, forest__n_estimators=100 \n",
      "[CV]  forest__class_weight=None, forest__max_depth=10, forest__min_samples_leaf=100, forest__n_estimators=100, score=0.424, total=   3.9s\n",
      "[CV] forest__class_weight=None, forest__max_depth=10, forest__min_samples_leaf=100, forest__n_estimators=500 \n",
      "[CV]  forest__class_weight=None, forest__max_depth=10, forest__min_samples_leaf=100, forest__n_estimators=500, score=0.442, total=  17.9s\n",
      "[CV] forest__class_weight=None, forest__max_depth=10, forest__min_samples_leaf=100, forest__n_estimators=500 \n",
      "[CV]  forest__class_weight=None, forest__max_depth=10, forest__min_samples_leaf=100, forest__n_estimators=500, score=0.433, total=  18.3s\n",
      "[CV] forest__class_weight=None, forest__max_depth=10, forest__min_samples_leaf=100, forest__n_estimators=500 \n",
      "[CV]  forest__class_weight=None, forest__max_depth=10, forest__min_samples_leaf=100, forest__n_estimators=500, score=0.436, total=  18.0s\n",
      "[CV] forest__class_weight=None, forest__max_depth=10, forest__min_samples_leaf=100, forest__n_estimators=500 \n",
      "[CV]  forest__class_weight=None, forest__max_depth=10, forest__min_samples_leaf=100, forest__n_estimators=500, score=0.440, total=  19.2s\n",
      "[CV] forest__class_weight=None, forest__max_depth=10, forest__min_samples_leaf=100, forest__n_estimators=500 \n",
      "[CV]  forest__class_weight=None, forest__max_depth=10, forest__min_samples_leaf=100, forest__n_estimators=500, score=0.440, total=  21.0s\n",
      "[CV] forest__class_weight=None, forest__max_depth=50, forest__min_samples_leaf=10, forest__n_estimators=100 \n",
      "[CV]  forest__class_weight=None, forest__max_depth=50, forest__min_samples_leaf=10, forest__n_estimators=100, score=0.604, total=  14.7s\n",
      "[CV] forest__class_weight=None, forest__max_depth=50, forest__min_samples_leaf=10, forest__n_estimators=100 \n",
      "[CV]  forest__class_weight=None, forest__max_depth=50, forest__min_samples_leaf=10, forest__n_estimators=100, score=0.604, total=  13.2s\n",
      "[CV] forest__class_weight=None, forest__max_depth=50, forest__min_samples_leaf=10, forest__n_estimators=100 \n",
      "[CV]  forest__class_weight=None, forest__max_depth=50, forest__min_samples_leaf=10, forest__n_estimators=100, score=0.608, total=  13.9s\n",
      "[CV] forest__class_weight=None, forest__max_depth=50, forest__min_samples_leaf=10, forest__n_estimators=100 \n",
      "[CV]  forest__class_weight=None, forest__max_depth=50, forest__min_samples_leaf=10, forest__n_estimators=100, score=0.608, total=  12.9s\n",
      "[CV] forest__class_weight=None, forest__max_depth=50, forest__min_samples_leaf=10, forest__n_estimators=100 \n",
      "[CV]  forest__class_weight=None, forest__max_depth=50, forest__min_samples_leaf=10, forest__n_estimators=100, score=0.614, total=  13.8s\n",
      "[CV] forest__class_weight=None, forest__max_depth=50, forest__min_samples_leaf=10, forest__n_estimators=500 \n",
      "[CV]  forest__class_weight=None, forest__max_depth=50, forest__min_samples_leaf=10, forest__n_estimators=500, score=0.610, total= 1.1min\n",
      "[CV] forest__class_weight=None, forest__max_depth=50, forest__min_samples_leaf=10, forest__n_estimators=500 \n",
      "[CV]  forest__class_weight=None, forest__max_depth=50, forest__min_samples_leaf=10, forest__n_estimators=500, score=0.604, total= 1.1min\n",
      "[CV] forest__class_weight=None, forest__max_depth=50, forest__min_samples_leaf=10, forest__n_estimators=500 \n",
      "[CV]  forest__class_weight=None, forest__max_depth=50, forest__min_samples_leaf=10, forest__n_estimators=500, score=0.608, total= 1.1min\n",
      "[CV] forest__class_weight=None, forest__max_depth=50, forest__min_samples_leaf=10, forest__n_estimators=500 \n",
      "[CV]  forest__class_weight=None, forest__max_depth=50, forest__min_samples_leaf=10, forest__n_estimators=500, score=0.613, total= 1.0min\n",
      "[CV] forest__class_weight=None, forest__max_depth=50, forest__min_samples_leaf=10, forest__n_estimators=500 \n",
      "[CV]  forest__class_weight=None, forest__max_depth=50, forest__min_samples_leaf=10, forest__n_estimators=500, score=0.610, total= 1.1min\n",
      "[CV] forest__class_weight=None, forest__max_depth=50, forest__min_samples_leaf=50, forest__n_estimators=100 \n",
      "[CV]  forest__class_weight=None, forest__max_depth=50, forest__min_samples_leaf=50, forest__n_estimators=100, score=0.546, total=   9.2s\n",
      "[CV] forest__class_weight=None, forest__max_depth=50, forest__min_samples_leaf=50, forest__n_estimators=100 \n",
      "[CV]  forest__class_weight=None, forest__max_depth=50, forest__min_samples_leaf=50, forest__n_estimators=100, score=0.549, total=   9.3s\n",
      "[CV] forest__class_weight=None, forest__max_depth=50, forest__min_samples_leaf=50, forest__n_estimators=100 \n",
      "[CV]  forest__class_weight=None, forest__max_depth=50, forest__min_samples_leaf=50, forest__n_estimators=100, score=0.541, total=   9.4s\n",
      "[CV] forest__class_weight=None, forest__max_depth=50, forest__min_samples_leaf=50, forest__n_estimators=100 \n",
      "[CV]  forest__class_weight=None, forest__max_depth=50, forest__min_samples_leaf=50, forest__n_estimators=100, score=0.543, total=   9.0s\n",
      "[CV] forest__class_weight=None, forest__max_depth=50, forest__min_samples_leaf=50, forest__n_estimators=100 \n",
      "[CV]  forest__class_weight=None, forest__max_depth=50, forest__min_samples_leaf=50, forest__n_estimators=100, score=0.540, total=   8.4s\n",
      "[CV] forest__class_weight=None, forest__max_depth=50, forest__min_samples_leaf=50, forest__n_estimators=500 \n",
      "[CV]  forest__class_weight=None, forest__max_depth=50, forest__min_samples_leaf=50, forest__n_estimators=500, score=0.550, total=  42.6s\n",
      "[CV] forest__class_weight=None, forest__max_depth=50, forest__min_samples_leaf=50, forest__n_estimators=500 \n",
      "[CV]  forest__class_weight=None, forest__max_depth=50, forest__min_samples_leaf=50, forest__n_estimators=500, score=0.543, total=  41.7s\n",
      "[CV] forest__class_weight=None, forest__max_depth=50, forest__min_samples_leaf=50, forest__n_estimators=500 \n"
     ]
    },
    {
     "name": "stdout",
     "output_type": "stream",
     "text": [
      "[CV]  forest__class_weight=None, forest__max_depth=50, forest__min_samples_leaf=50, forest__n_estimators=500, score=0.537, total=  47.3s\n",
      "[CV] forest__class_weight=None, forest__max_depth=50, forest__min_samples_leaf=50, forest__n_estimators=500 \n",
      "[CV]  forest__class_weight=None, forest__max_depth=50, forest__min_samples_leaf=50, forest__n_estimators=500, score=0.550, total=  42.5s\n",
      "[CV] forest__class_weight=None, forest__max_depth=50, forest__min_samples_leaf=50, forest__n_estimators=500 \n",
      "[CV]  forest__class_weight=None, forest__max_depth=50, forest__min_samples_leaf=50, forest__n_estimators=500, score=0.542, total=  42.5s\n",
      "[CV] forest__class_weight=None, forest__max_depth=50, forest__min_samples_leaf=100, forest__n_estimators=100 \n",
      "[CV]  forest__class_weight=None, forest__max_depth=50, forest__min_samples_leaf=100, forest__n_estimators=100, score=0.505, total=   7.0s\n",
      "[CV] forest__class_weight=None, forest__max_depth=50, forest__min_samples_leaf=100, forest__n_estimators=100 \n",
      "[CV]  forest__class_weight=None, forest__max_depth=50, forest__min_samples_leaf=100, forest__n_estimators=100, score=0.494, total=   7.0s\n",
      "[CV] forest__class_weight=None, forest__max_depth=50, forest__min_samples_leaf=100, forest__n_estimators=100 \n",
      "[CV]  forest__class_weight=None, forest__max_depth=50, forest__min_samples_leaf=100, forest__n_estimators=100, score=0.498, total=   7.3s\n",
      "[CV] forest__class_weight=None, forest__max_depth=50, forest__min_samples_leaf=100, forest__n_estimators=100 \n",
      "[CV]  forest__class_weight=None, forest__max_depth=50, forest__min_samples_leaf=100, forest__n_estimators=100, score=0.497, total=   6.6s\n",
      "[CV] forest__class_weight=None, forest__max_depth=50, forest__min_samples_leaf=100, forest__n_estimators=100 \n",
      "[CV]  forest__class_weight=None, forest__max_depth=50, forest__min_samples_leaf=100, forest__n_estimators=100, score=0.498, total=   6.6s\n",
      "[CV] forest__class_weight=None, forest__max_depth=50, forest__min_samples_leaf=100, forest__n_estimators=500 \n",
      "[CV]  forest__class_weight=None, forest__max_depth=50, forest__min_samples_leaf=100, forest__n_estimators=500, score=0.506, total=  32.5s\n",
      "[CV] forest__class_weight=None, forest__max_depth=50, forest__min_samples_leaf=100, forest__n_estimators=500 \n",
      "[CV]  forest__class_weight=None, forest__max_depth=50, forest__min_samples_leaf=100, forest__n_estimators=500, score=0.502, total=  32.1s\n",
      "[CV] forest__class_weight=None, forest__max_depth=50, forest__min_samples_leaf=100, forest__n_estimators=500 \n",
      "[CV]  forest__class_weight=None, forest__max_depth=50, forest__min_samples_leaf=100, forest__n_estimators=500, score=0.492, total=  31.8s\n",
      "[CV] forest__class_weight=None, forest__max_depth=50, forest__min_samples_leaf=100, forest__n_estimators=500 \n",
      "[CV]  forest__class_weight=None, forest__max_depth=50, forest__min_samples_leaf=100, forest__n_estimators=500, score=0.506, total=  35.2s\n",
      "[CV] forest__class_weight=None, forest__max_depth=50, forest__min_samples_leaf=100, forest__n_estimators=500 \n",
      "[CV]  forest__class_weight=None, forest__max_depth=50, forest__min_samples_leaf=100, forest__n_estimators=500, score=0.506, total=  33.1s\n",
      "[CV] forest__class_weight=None, forest__max_depth=100, forest__min_samples_leaf=10, forest__n_estimators=100 \n",
      "[CV]  forest__class_weight=None, forest__max_depth=100, forest__min_samples_leaf=10, forest__n_estimators=100, score=0.610, total=  14.3s\n",
      "[CV] forest__class_weight=None, forest__max_depth=100, forest__min_samples_leaf=10, forest__n_estimators=100 \n",
      "[CV]  forest__class_weight=None, forest__max_depth=100, forest__min_samples_leaf=10, forest__n_estimators=100, score=0.608, total=  13.7s\n",
      "[CV] forest__class_weight=None, forest__max_depth=100, forest__min_samples_leaf=10, forest__n_estimators=100 \n",
      "[CV]  forest__class_weight=None, forest__max_depth=100, forest__min_samples_leaf=10, forest__n_estimators=100, score=0.612, total=  13.8s\n",
      "[CV] forest__class_weight=None, forest__max_depth=100, forest__min_samples_leaf=10, forest__n_estimators=100 \n",
      "[CV]  forest__class_weight=None, forest__max_depth=100, forest__min_samples_leaf=10, forest__n_estimators=100, score=0.626, total=  13.8s\n",
      "[CV] forest__class_weight=None, forest__max_depth=100, forest__min_samples_leaf=10, forest__n_estimators=100 \n",
      "[CV]  forest__class_weight=None, forest__max_depth=100, forest__min_samples_leaf=10, forest__n_estimators=100, score=0.611, total=  14.2s\n",
      "[CV] forest__class_weight=None, forest__max_depth=100, forest__min_samples_leaf=10, forest__n_estimators=500 \n",
      "[CV]  forest__class_weight=None, forest__max_depth=100, forest__min_samples_leaf=10, forest__n_estimators=500, score=0.617, total= 1.2min\n",
      "[CV] forest__class_weight=None, forest__max_depth=100, forest__min_samples_leaf=10, forest__n_estimators=500 \n",
      "[CV]  forest__class_weight=None, forest__max_depth=100, forest__min_samples_leaf=10, forest__n_estimators=500, score=0.616, total= 1.2min\n",
      "[CV] forest__class_weight=None, forest__max_depth=100, forest__min_samples_leaf=10, forest__n_estimators=500 \n",
      "[CV]  forest__class_weight=None, forest__max_depth=100, forest__min_samples_leaf=10, forest__n_estimators=500, score=0.618, total= 1.2min\n",
      "[CV] forest__class_weight=None, forest__max_depth=100, forest__min_samples_leaf=10, forest__n_estimators=500 \n",
      "[CV]  forest__class_weight=None, forest__max_depth=100, forest__min_samples_leaf=10, forest__n_estimators=500, score=0.620, total= 1.2min\n",
      "[CV] forest__class_weight=None, forest__max_depth=100, forest__min_samples_leaf=10, forest__n_estimators=500 \n",
      "[CV]  forest__class_weight=None, forest__max_depth=100, forest__min_samples_leaf=10, forest__n_estimators=500, score=0.617, total= 1.2min\n",
      "[CV] forest__class_weight=None, forest__max_depth=100, forest__min_samples_leaf=50, forest__n_estimators=100 \n",
      "[CV]  forest__class_weight=None, forest__max_depth=100, forest__min_samples_leaf=50, forest__n_estimators=100, score=0.541, total=   8.6s\n",
      "[CV] forest__class_weight=None, forest__max_depth=100, forest__min_samples_leaf=50, forest__n_estimators=100 \n",
      "[CV]  forest__class_weight=None, forest__max_depth=100, forest__min_samples_leaf=50, forest__n_estimators=100, score=0.539, total=   8.6s\n",
      "[CV] forest__class_weight=None, forest__max_depth=100, forest__min_samples_leaf=50, forest__n_estimators=100 \n",
      "[CV]  forest__class_weight=None, forest__max_depth=100, forest__min_samples_leaf=50, forest__n_estimators=100, score=0.547, total=   9.1s\n",
      "[CV] forest__class_weight=None, forest__max_depth=100, forest__min_samples_leaf=50, forest__n_estimators=100 \n",
      "[CV]  forest__class_weight=None, forest__max_depth=100, forest__min_samples_leaf=50, forest__n_estimators=100, score=0.549, total=   8.5s\n",
      "[CV] forest__class_weight=None, forest__max_depth=100, forest__min_samples_leaf=50, forest__n_estimators=100 \n",
      "[CV]  forest__class_weight=None, forest__max_depth=100, forest__min_samples_leaf=50, forest__n_estimators=100, score=0.538, total=   8.5s\n",
      "[CV] forest__class_weight=None, forest__max_depth=100, forest__min_samples_leaf=50, forest__n_estimators=500 \n",
      "[CV]  forest__class_weight=None, forest__max_depth=100, forest__min_samples_leaf=50, forest__n_estimators=500, score=0.548, total=  46.8s\n",
      "[CV] forest__class_weight=None, forest__max_depth=100, forest__min_samples_leaf=50, forest__n_estimators=500 \n",
      "[CV]  forest__class_weight=None, forest__max_depth=100, forest__min_samples_leaf=50, forest__n_estimators=500, score=0.541, total=  43.0s\n",
      "[CV] forest__class_weight=None, forest__max_depth=100, forest__min_samples_leaf=50, forest__n_estimators=500 \n",
      "[CV]  forest__class_weight=None, forest__max_depth=100, forest__min_samples_leaf=50, forest__n_estimators=500, score=0.538, total=  43.2s\n",
      "[CV] forest__class_weight=None, forest__max_depth=100, forest__min_samples_leaf=50, forest__n_estimators=500 \n",
      "[CV]  forest__class_weight=None, forest__max_depth=100, forest__min_samples_leaf=50, forest__n_estimators=500, score=0.556, total=  42.6s\n",
      "[CV] forest__class_weight=None, forest__max_depth=100, forest__min_samples_leaf=50, forest__n_estimators=500 \n",
      "[CV]  forest__class_weight=None, forest__max_depth=100, forest__min_samples_leaf=50, forest__n_estimators=500, score=0.550, total=  42.0s\n",
      "[CV] forest__class_weight=None, forest__max_depth=100, forest__min_samples_leaf=100, forest__n_estimators=100 \n",
      "[CV]  forest__class_weight=None, forest__max_depth=100, forest__min_samples_leaf=100, forest__n_estimators=100, score=0.494, total=   6.5s\n",
      "[CV] forest__class_weight=None, forest__max_depth=100, forest__min_samples_leaf=100, forest__n_estimators=100 \n"
     ]
    },
    {
     "name": "stdout",
     "output_type": "stream",
     "text": [
      "[CV]  forest__class_weight=None, forest__max_depth=100, forest__min_samples_leaf=100, forest__n_estimators=100, score=0.504, total=   6.7s\n",
      "[CV] forest__class_weight=None, forest__max_depth=100, forest__min_samples_leaf=100, forest__n_estimators=100 \n",
      "[CV]  forest__class_weight=None, forest__max_depth=100, forest__min_samples_leaf=100, forest__n_estimators=100, score=0.491, total=   6.7s\n",
      "[CV] forest__class_weight=None, forest__max_depth=100, forest__min_samples_leaf=100, forest__n_estimators=100 \n",
      "[CV]  forest__class_weight=None, forest__max_depth=100, forest__min_samples_leaf=100, forest__n_estimators=100, score=0.498, total=   6.6s\n",
      "[CV] forest__class_weight=None, forest__max_depth=100, forest__min_samples_leaf=100, forest__n_estimators=100 \n",
      "[CV]  forest__class_weight=None, forest__max_depth=100, forest__min_samples_leaf=100, forest__n_estimators=100, score=0.495, total=   6.8s\n",
      "[CV] forest__class_weight=None, forest__max_depth=100, forest__min_samples_leaf=100, forest__n_estimators=500 \n",
      "[CV]  forest__class_weight=None, forest__max_depth=100, forest__min_samples_leaf=100, forest__n_estimators=500, score=0.503, total=  33.0s\n",
      "[CV] forest__class_weight=None, forest__max_depth=100, forest__min_samples_leaf=100, forest__n_estimators=500 \n",
      "[CV]  forest__class_weight=None, forest__max_depth=100, forest__min_samples_leaf=100, forest__n_estimators=500, score=0.492, total=  33.3s\n",
      "[CV] forest__class_weight=None, forest__max_depth=100, forest__min_samples_leaf=100, forest__n_estimators=500 \n",
      "[CV]  forest__class_weight=None, forest__max_depth=100, forest__min_samples_leaf=100, forest__n_estimators=500, score=0.494, total=  32.0s\n",
      "[CV] forest__class_weight=None, forest__max_depth=100, forest__min_samples_leaf=100, forest__n_estimators=500 \n",
      "[CV]  forest__class_weight=None, forest__max_depth=100, forest__min_samples_leaf=100, forest__n_estimators=500, score=0.501, total=  31.0s\n",
      "[CV] forest__class_weight=None, forest__max_depth=100, forest__min_samples_leaf=100, forest__n_estimators=500 \n",
      "[CV]  forest__class_weight=None, forest__max_depth=100, forest__min_samples_leaf=100, forest__n_estimators=500, score=0.500, total=  31.4s\n"
     ]
    },
    {
     "name": "stderr",
     "output_type": "stream",
     "text": [
      "[Parallel(n_jobs=1)]: Done 180 out of 180 | elapsed: 70.0min finished\n"
     ]
    },
    {
     "name": "stdout",
     "output_type": "stream",
     "text": [
      "Train Accuracy : 0.694\n",
      "Test Accuracy : 0.662\n",
      "Best Accuracy Through Grid Search : 0.665\n",
      "Best Parameters :  {'forest__class_weight': 'balanced', 'forest__max_depth': 50, 'forest__min_samples_leaf': 10, 'forest__n_estimators': 500}\n",
      "                          precision    recall  f1-score   support\n",
      "\n",
      "Bordeaux-style Red Blend       0.59      0.74      0.66      1033\n",
      "      Cabernet Sauvignon       0.80      0.60      0.69      1583\n",
      "              Chardonnay       0.89      0.77      0.82      1880\n",
      "                  Malbec       0.45      0.44      0.44       390\n",
      "                  Merlot       0.65      0.52      0.58       683\n",
      "              Pinot Noir       0.87      0.63      0.73      1914\n",
      "               Red Blend       0.70      0.43      0.53      1292\n",
      "                Riesling       0.67      0.88      0.77       694\n",
      "                    Rosé       0.51      0.85      0.63       356\n",
      "              Sangiovese       0.42      0.71      0.53       396\n",
      "         Sauvignon Blanc       0.72      0.76      0.74       806\n",
      "                   Syrah       0.71      0.56      0.62       720\n",
      "             Tempranillo       0.29      0.78      0.42       352\n",
      "             White Blend       0.56      0.67      0.61       365\n",
      "               Zinfandel       0.53      0.79      0.63       483\n",
      "\n",
      "                accuracy                           0.66     12947\n",
      "               macro avg       0.62      0.68      0.63     12947\n",
      "            weighted avg       0.71      0.66      0.67     12947\n",
      "\n"
     ]
    }
   ],
   "source": [
    "pipeline = Pipeline([('forest', RandomForestClassifier())])\n",
    "\n",
    "\n",
    "forest_params = {\n",
    "    'forest__max_depth' : [10, 50, 100],\n",
    "    'forest__n_estimators': [100, 500],\n",
    "    'forest__min_samples_leaf': [10, 50, 100],\n",
    "    'forest__class_weight' : ['balanced',None]\n",
    "}\n",
    "\n",
    "forest_grid = GridSearchCV(pipeline, param_grid=forest_params, cv=5, verbose=5)\n",
    "forest_grid.fit(X_train, y_train)\n",
    "\n",
    "print('Train Accuracy : %.3f'%forest_grid.best_estimator_.score(X_train, y_train))\n",
    "print('Test Accuracy : %.3f'%forest_grid.best_estimator_.score(X_test, y_test))\n",
    "print('Best Accuracy Through Grid Search : %.3f'%forest_grid.best_score_)\n",
    "print('Best Parameters : ',forest_grid.best_params_)\n",
    "\n",
    "evaluate_model(forest_grid)"
   ]
  },
  {
   "cell_type": "markdown",
   "metadata": {},
   "source": [
    "# Summary and discussion"
   ]
  },
  {
   "cell_type": "markdown",
   "metadata": {},
   "source": [
    "Our task was to create a multi-class classifier to predict the wine grape variety based on a review description. We used publicly available dataset, which can be downloaded from Kaggle datasets. We divided our project into three stages i.e.:\n",
    "1. Data Cleaning,\n",
    "2. Description Text Preparation,\n",
    "3. Modeling.\n",
    "\n",
    "In those stages we've repeated and got familiarized with the Pandas package handful features to process the text data. We've refreshed the common steps for text cleaning tasks and text preparation for modeling (stemming, vectorizing). We got to know the NLTK library better and its usage during the course of the project. Finally we went through the process of modeling, finding the best classifier and ways of their fine tuning. Additionally we structured our project into separate jupyter notebooks and folders to make it more transparent for the future recall. I can add that the notebook called \"sandbox\" is very important to me as I tested there some solutions which not necessarily were used in the final project notebooks.\n",
    "\n",
    "**Classifiers**\n",
    "\n",
    "We've noticed that the classifier with the highest accuracy was SVM. However due to its long training time, we've mainly focused on improving the LinearSVM classifier. What needs to be added that accuracy of all the picked up algorithms were quite similar (at least at the baseline). This observation might suggest that the biggest room fro improvement is in the data.\n",
    "\n",
    "**What could be done to increase accuracy?**\n",
    "* adding n-grams: bi-grams or tri-grams,\n",
    "* perform topic modeling - find 5 or more words describing particular grape variety,\n",
    "* combine the dataset with other dataset to recognize most common wine colors made out of particular grape variety (red, white, rose),\n",
    "* use other algorithms like xgboost, neural networks, BERT to increase the accuracy,\n",
    "* use other ensemble methods like boosting, bagging, stacking\n",
    "\n",
    "**Summary Scores**\n",
    "\n",
    "**1. Linear SVM - best score**\n",
    "Train Accuracy : 0.806\n",
    "Test Accuracy : 0.741\n",
    "Best Accuracy Through Grid Search : 0.740\n",
    "Best Parameters :  {'lin_svm__C': 0.01, 'lin_svm__dual': False, 'lin_svm__penalty': 'l2'}\n",
    "\n",
    "**2. Multinomial Naive Bayes:**\n",
    "Train Accuracy : 0.749\n",
    "Test Accuracy : 0.676\n",
    "Best Accuracy Through Grid Search : 0.681\n",
    "Best Parameters :  {'alpha': 0.5}\n",
    "\n",
    "**3. Random Forest:**\n",
    "Actually Random Forest predicted the grape varieties better without any hyperparameters tuning. The baseline accuracy score was: **0.69** while the gridsearch results were: \n",
    "Train Accuracy : 0.694\n",
    "Test Accuracy : 0.662\n",
    "Best Accuracy Through Grid Search : **0.665**\n",
    "Best Parameters :  {'forest__class_weight': 'balanced', 'forest__max_depth': 50, 'forest__min_samples_leaf': 10, 'forest__n_estimators': 500}\n",
    "\n",
    "**4. SVM:**\n",
    "We haven't check the tuning possibilities for SVM properly. The reason for this, is mainly due to lack of time as this project is overdue and SVM classifier trains very long. However I'm going to come back to it and improve the score over the time.\n",
    "\n",
    "The score of the raw SVM classifier was **0.74**\n",
    "\n",
    "\n",
    "\n",
    "\n",
    "\n",
    "\n",
    "\n"
   ]
  },
  {
   "cell_type": "code",
   "execution_count": null,
   "metadata": {},
   "outputs": [],
   "source": []
  }
 ],
 "metadata": {
  "kernelspec": {
   "display_name": "Python 3",
   "language": "python",
   "name": "python3"
  },
  "language_info": {
   "codemirror_mode": {
    "name": "ipython",
    "version": 3
   },
   "file_extension": ".py",
   "mimetype": "text/x-python",
   "name": "python",
   "nbconvert_exporter": "python",
   "pygments_lexer": "ipython3",
   "version": "3.8.1"
  },
  "toc": {
   "base_numbering": 1,
   "nav_menu": {},
   "number_sections": true,
   "sideBar": true,
   "skip_h1_title": false,
   "title_cell": "Table of Contents",
   "title_sidebar": "Contents",
   "toc_cell": false,
   "toc_position": {},
   "toc_section_display": true,
   "toc_window_display": true
  }
 },
 "nbformat": 4,
 "nbformat_minor": 4
}
